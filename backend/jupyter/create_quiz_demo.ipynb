{
 "cells": [
  {
   "cell_type": "code",
   "execution_count": 1,
   "id": "c2d5a55b",
   "metadata": {},
   "outputs": [],
   "source": [
    "from sqlalchemy.orm import Session\n",
    "import sys\n",
    "sys.path.append('..')\n",
    "from app import models\n",
    "from app.database import engine,SessionLocal\n",
    "from pprint import pprint\n",
    "import pandas as pd\n",
    "from fastapi.encoders import jsonable_encoder\n",
    "import random\n",
    "from IPython.display import HTML"
   ]
  },
  {
   "cell_type": "code",
   "execution_count": 2,
   "id": "3837784a",
   "metadata": {},
   "outputs": [],
   "source": [
    "db = SessionLocal()"
   ]
  },
  {
   "cell_type": "markdown",
   "id": "c02721d7",
   "metadata": {},
   "source": [
    "# Logic to create the quiz for a single user\n",
    "\n",
    "Example userId = 1"
   ]
  },
  {
   "cell_type": "code",
   "execution_count": 3,
   "id": "e57d2e51",
   "metadata": {},
   "outputs": [],
   "source": [
    "user_id=1\n",
    "steckbrief_id=1"
   ]
  },
  {
   "cell_type": "markdown",
   "id": "04f0a739",
   "metadata": {},
   "source": [
    "## Used tables"
   ]
  },
  {
   "cell_type": "code",
   "execution_count": 4,
   "id": "86beb11e",
   "metadata": {},
   "outputs": [
    {
     "data": {
      "text/html": [
       "<h3>Table: User</h3><p>user_id =1</p>"
      ],
      "text/plain": [
       "<IPython.core.display.HTML object>"
      ]
     },
     "metadata": {},
     "output_type": "display_data"
    },
    {
     "data": {
      "text/html": [
       "<table border=\"1\" class=\"dataframe\">\n",
       "  <thead>\n",
       "    <tr style=\"text-align: right;\">\n",
       "      <th>user_id</th>\n",
       "      <th>abteilung_id</th>\n",
       "      <th>steckbrief_id</th>\n",
       "      <th>beruf</th>\n",
       "      <th>vorname</th>\n",
       "      <th>nachname</th>\n",
       "      <th>geburtsdatum</th>\n",
       "      <th>wohnort</th>\n",
       "    </tr>\n",
       "  </thead>\n",
       "  <tbody>\n",
       "    <tr>\n",
       "      <td>1</td>\n",
       "      <td>3</td>\n",
       "      <td>1</td>\n",
       "      <td>Grafiker</td>\n",
       "      <td>Marco</td>\n",
       "      <td>Gerken</td>\n",
       "      <td>1991-01-01</td>\n",
       "      <td>Köln</td>\n",
       "    </tr>\n",
       "  </tbody>\n",
       "</table>"
      ],
      "text/plain": [
       "<IPython.core.display.HTML object>"
      ]
     },
     "metadata": {},
     "output_type": "display_data"
    },
    {
     "data": {
      "text/html": [
       "<h3>Table: Steckbrief</h3><p>steckbrief_id =1</p>"
      ],
      "text/plain": [
       "<IPython.core.display.HTML object>"
      ]
     },
     "metadata": {},
     "output_type": "display_data"
    },
    {
     "data": {
      "text/html": [
       "<table border=\"1\" class=\"dataframe\">\n",
       "  <thead>\n",
       "    <tr style=\"text-align: right;\">\n",
       "      <th>steckbrief_id</th>\n",
       "      <th>freigegeben</th>\n",
       "    </tr>\n",
       "  </thead>\n",
       "  <tbody>\n",
       "    <tr>\n",
       "      <td>1</td>\n",
       "      <td>True</td>\n",
       "    </tr>\n",
       "  </tbody>\n",
       "</table>"
      ],
      "text/plain": [
       "<IPython.core.display.HTML object>"
      ]
     },
     "metadata": {},
     "output_type": "display_data"
    },
    {
     "data": {
      "text/html": [
       "<h3>Table: Steckbrief_Fragen</h3><p>steckbrief_id =1</p>"
      ],
      "text/plain": [
       "<IPython.core.display.HTML object>"
      ]
     },
     "metadata": {},
     "output_type": "display_data"
    },
    {
     "data": {
      "text/html": [
       "<table border=\"1\" class=\"dataframe\">\n",
       "  <thead>\n",
       "    <tr style=\"text-align: right;\">\n",
       "      <th>steckbrief_id</th>\n",
       "      <th>frage_id</th>\n",
       "      <th>antwort</th>\n",
       "    </tr>\n",
       "  </thead>\n",
       "  <tbody>\n",
       "    <tr>\n",
       "      <td>1</td>\n",
       "      <td>1</td>\n",
       "      <td>Python</td>\n",
       "    </tr>\n",
       "    <tr>\n",
       "      <td>1</td>\n",
       "      <td>2</td>\n",
       "      <td>42</td>\n",
       "    </tr>\n",
       "    <tr>\n",
       "      <td>1</td>\n",
       "      <td>3</td>\n",
       "      <td>Paulaner Spezi</td>\n",
       "    </tr>\n",
       "    <tr>\n",
       "      <td>1</td>\n",
       "      <td>4</td>\n",
       "      <td>Spaghetti</td>\n",
       "    </tr>\n",
       "    <tr>\n",
       "      <td>1</td>\n",
       "      <td>5</td>\n",
       "      <td>Schlumpfeis</td>\n",
       "    </tr>\n",
       "    <tr>\n",
       "      <td>1</td>\n",
       "      <td>6</td>\n",
       "      <td>Videospiele</td>\n",
       "    </tr>\n",
       "    <tr>\n",
       "      <td>1</td>\n",
       "      <td>7</td>\n",
       "      <td>Zeitreisen</td>\n",
       "    </tr>\n",
       "    <tr>\n",
       "      <td>1</td>\n",
       "      <td>11</td>\n",
       "      <td>Hund</td>\n",
       "    </tr>\n",
       "    <tr>\n",
       "      <td>1</td>\n",
       "      <td>12</td>\n",
       "      <td>Irland</td>\n",
       "    </tr>\n",
       "  </tbody>\n",
       "</table>"
      ],
      "text/plain": [
       "<IPython.core.display.HTML object>"
      ]
     },
     "metadata": {},
     "output_type": "display_data"
    },
    {
     "data": {
      "text/html": [
       "<h3>Table: Frage</h3>"
      ],
      "text/plain": [
       "<IPython.core.display.HTML object>"
      ]
     },
     "metadata": {},
     "output_type": "display_data"
    },
    {
     "data": {
      "text/html": [
       "<table border=\"1\" class=\"dataframe\">\n",
       "  <thead>\n",
       "    <tr style=\"text-align: right;\">\n",
       "      <th>frage_id</th>\n",
       "      <th>frage</th>\n",
       "    </tr>\n",
       "  </thead>\n",
       "  <tbody>\n",
       "    <tr>\n",
       "      <td>1</td>\n",
       "      <td>Was ist deine Lieblings-Programmiersprache?</td>\n",
       "    </tr>\n",
       "    <tr>\n",
       "      <td>2</td>\n",
       "      <td>Was ist der Sinn des Lebens?</td>\n",
       "    </tr>\n",
       "    <tr>\n",
       "      <td>3</td>\n",
       "      <td>Was ist dein Lieblingsgetränk?</td>\n",
       "    </tr>\n",
       "    <tr>\n",
       "      <td>4</td>\n",
       "      <td>Welche Nudelsorte isst du am liebsten?</td>\n",
       "    </tr>\n",
       "    <tr>\n",
       "      <td>5</td>\n",
       "      <td>Was ist deine Lieblings-Eissorte</td>\n",
       "    </tr>\n",
       "    <tr>\n",
       "      <td>6</td>\n",
       "      <td>Was ist dein Lieblings-Hobby</td>\n",
       "    </tr>\n",
       "    <tr>\n",
       "      <td>7</td>\n",
       "      <td>Welche Superkraft hättest du am liebsten?</td>\n",
       "    </tr>\n",
       "    <tr>\n",
       "      <td>8</td>\n",
       "      <td>Welches Sternzeichen bist du?</td>\n",
       "    </tr>\n",
       "    <tr>\n",
       "      <td>9</td>\n",
       "      <td>Was würdest du mit einer Millionen Euro kaufen?</td>\n",
       "    </tr>\n",
       "    <tr>\n",
       "      <td>10</td>\n",
       "      <td>Welchen Gegenstand würdest du mit auf eine einsame Insel nehmen?</td>\n",
       "    </tr>\n",
       "    <tr>\n",
       "      <td>11</td>\n",
       "      <td>Was ist dein Lieblingstier?</td>\n",
       "    </tr>\n",
       "    <tr>\n",
       "      <td>12</td>\n",
       "      <td>An welchen Ort würdest du gerne reisen?</td>\n",
       "    </tr>\n",
       "  </tbody>\n",
       "</table>"
      ],
      "text/plain": [
       "<IPython.core.display.HTML object>"
      ]
     },
     "metadata": {},
     "output_type": "display_data"
    },
    {
     "data": {
      "text/html": [
       "<h3>Table: Dummy_Antwort</h3>"
      ],
      "text/plain": [
       "<IPython.core.display.HTML object>"
      ]
     },
     "metadata": {},
     "output_type": "display_data"
    },
    {
     "data": {
      "text/html": [
       "<table border=\"1\" class=\"dataframe\">\n",
       "  <thead>\n",
       "    <tr style=\"text-align: right;\">\n",
       "      <th>dummy_antwort_id</th>\n",
       "      <th>frage_id</th>\n",
       "      <th>antwort</th>\n",
       "    </tr>\n",
       "  </thead>\n",
       "  <tbody>\n",
       "    <tr>\n",
       "      <td>1</td>\n",
       "      <td>1</td>\n",
       "      <td>Java</td>\n",
       "    </tr>\n",
       "    <tr>\n",
       "      <td>2</td>\n",
       "      <td>1</td>\n",
       "      <td>R</td>\n",
       "    </tr>\n",
       "    <tr>\n",
       "      <td>3</td>\n",
       "      <td>1</td>\n",
       "      <td>Rust</td>\n",
       "    </tr>\n",
       "    <tr>\n",
       "      <td>4</td>\n",
       "      <td>1</td>\n",
       "      <td>Scala</td>\n",
       "    </tr>\n",
       "    <tr>\n",
       "      <td>5</td>\n",
       "      <td>1</td>\n",
       "      <td>Kotlin</td>\n",
       "    </tr>\n",
       "    <tr>\n",
       "      <td>6</td>\n",
       "      <td>1</td>\n",
       "      <td>Swift</td>\n",
       "    </tr>\n",
       "    <tr>\n",
       "      <td>7</td>\n",
       "      <td>2</td>\n",
       "      <td>Leben</td>\n",
       "    </tr>\n",
       "    <tr>\n",
       "      <td>8</td>\n",
       "      <td>2</td>\n",
       "      <td>Keine Ahnung</td>\n",
       "    </tr>\n",
       "    <tr>\n",
       "      <td>9</td>\n",
       "      <td>2</td>\n",
       "      <td>Genießen</td>\n",
       "    </tr>\n",
       "    <tr>\n",
       "      <td>10</td>\n",
       "      <td>2</td>\n",
       "      <td>Den ganzen Tag Hamburger essen</td>\n",
       "    </tr>\n",
       "    <tr>\n",
       "      <td>11</td>\n",
       "      <td>3</td>\n",
       "      <td>Kölsch</td>\n",
       "    </tr>\n",
       "    <tr>\n",
       "      <td>12</td>\n",
       "      <td>3</td>\n",
       "      <td>Alt</td>\n",
       "    </tr>\n",
       "    <tr>\n",
       "      <td>13</td>\n",
       "      <td>3</td>\n",
       "      <td>Cola</td>\n",
       "    </tr>\n",
       "    <tr>\n",
       "      <td>14</td>\n",
       "      <td>3</td>\n",
       "      <td>Radler</td>\n",
       "    </tr>\n",
       "    <tr>\n",
       "      <td>15</td>\n",
       "      <td>3</td>\n",
       "      <td>Költ</td>\n",
       "    </tr>\n",
       "    <tr>\n",
       "      <td>16</td>\n",
       "      <td>4</td>\n",
       "      <td>Penne</td>\n",
       "    </tr>\n",
       "    <tr>\n",
       "      <td>17</td>\n",
       "      <td>4</td>\n",
       "      <td>Cannelloni</td>\n",
       "    </tr>\n",
       "    <tr>\n",
       "      <td>18</td>\n",
       "      <td>4</td>\n",
       "      <td>Farfalle</td>\n",
       "    </tr>\n",
       "    <tr>\n",
       "      <td>19</td>\n",
       "      <td>4</td>\n",
       "      <td>Gnocchi</td>\n",
       "    </tr>\n",
       "    <tr>\n",
       "      <td>20</td>\n",
       "      <td>4</td>\n",
       "      <td>Fettuccine</td>\n",
       "    </tr>\n",
       "    <tr>\n",
       "      <td>21</td>\n",
       "      <td>5</td>\n",
       "      <td>Schokolade</td>\n",
       "    </tr>\n",
       "    <tr>\n",
       "      <td>22</td>\n",
       "      <td>5</td>\n",
       "      <td>Zitrone</td>\n",
       "    </tr>\n",
       "    <tr>\n",
       "      <td>23</td>\n",
       "      <td>5</td>\n",
       "      <td>Vanille</td>\n",
       "    </tr>\n",
       "    <tr>\n",
       "      <td>24</td>\n",
       "      <td>5</td>\n",
       "      <td>Cookie</td>\n",
       "    </tr>\n",
       "    <tr>\n",
       "      <td>25</td>\n",
       "      <td>5</td>\n",
       "      <td>Waldmeister</td>\n",
       "    </tr>\n",
       "    <tr>\n",
       "      <td>26</td>\n",
       "      <td>6</td>\n",
       "      <td>Schwimmen</td>\n",
       "    </tr>\n",
       "    <tr>\n",
       "      <td>27</td>\n",
       "      <td>6</td>\n",
       "      <td>Fahrrad fahren</td>\n",
       "    </tr>\n",
       "    <tr>\n",
       "      <td>28</td>\n",
       "      <td>6</td>\n",
       "      <td>Schach</td>\n",
       "    </tr>\n",
       "    <tr>\n",
       "      <td>29</td>\n",
       "      <td>6</td>\n",
       "      <td>Kanufahren</td>\n",
       "    </tr>\n",
       "    <tr>\n",
       "      <td>30</td>\n",
       "      <td>6</td>\n",
       "      <td>Klettern</td>\n",
       "    </tr>\n",
       "    <tr>\n",
       "      <td>31</td>\n",
       "      <td>7</td>\n",
       "      <td>Fliegen</td>\n",
       "    </tr>\n",
       "    <tr>\n",
       "      <td>32</td>\n",
       "      <td>7</td>\n",
       "      <td>Unsichtbarkeit</td>\n",
       "    </tr>\n",
       "    <tr>\n",
       "      <td>33</td>\n",
       "      <td>7</td>\n",
       "      <td>Gedanken liebsten</td>\n",
       "    </tr>\n",
       "    <tr>\n",
       "      <td>34</td>\n",
       "      <td>7</td>\n",
       "      <td>Laseraugen</td>\n",
       "    </tr>\n",
       "    <tr>\n",
       "      <td>35</td>\n",
       "      <td>8</td>\n",
       "      <td>Wassermann</td>\n",
       "    </tr>\n",
       "    <tr>\n",
       "      <td>36</td>\n",
       "      <td>8</td>\n",
       "      <td>Fische</td>\n",
       "    </tr>\n",
       "    <tr>\n",
       "      <td>37</td>\n",
       "      <td>8</td>\n",
       "      <td>Löwe</td>\n",
       "    </tr>\n",
       "    <tr>\n",
       "      <td>38</td>\n",
       "      <td>8</td>\n",
       "      <td>Schütze</td>\n",
       "    </tr>\n",
       "    <tr>\n",
       "      <td>39</td>\n",
       "      <td>9</td>\n",
       "      <td>Haus</td>\n",
       "    </tr>\n",
       "    <tr>\n",
       "      <td>40</td>\n",
       "      <td>9</td>\n",
       "      <td>Boot</td>\n",
       "    </tr>\n",
       "    <tr>\n",
       "      <td>41</td>\n",
       "      <td>9</td>\n",
       "      <td>Auto</td>\n",
       "    </tr>\n",
       "    <tr>\n",
       "      <td>42</td>\n",
       "      <td>9</td>\n",
       "      <td>Weltreise</td>\n",
       "    </tr>\n",
       "    <tr>\n",
       "      <td>43</td>\n",
       "      <td>10</td>\n",
       "      <td>Handy</td>\n",
       "    </tr>\n",
       "    <tr>\n",
       "      <td>44</td>\n",
       "      <td>10</td>\n",
       "      <td>PS5</td>\n",
       "    </tr>\n",
       "    <tr>\n",
       "      <td>45</td>\n",
       "      <td>10</td>\n",
       "      <td>Buch</td>\n",
       "    </tr>\n",
       "    <tr>\n",
       "      <td>46</td>\n",
       "      <td>10</td>\n",
       "      <td>Hund</td>\n",
       "    </tr>\n",
       "    <tr>\n",
       "      <td>47</td>\n",
       "      <td>10</td>\n",
       "      <td>Sonnenbrille</td>\n",
       "    </tr>\n",
       "    <tr>\n",
       "      <td>48</td>\n",
       "      <td>10</td>\n",
       "      <td>Pokemonkarten</td>\n",
       "    </tr>\n",
       "    <tr>\n",
       "      <td>49</td>\n",
       "      <td>11</td>\n",
       "      <td>Hund</td>\n",
       "    </tr>\n",
       "    <tr>\n",
       "      <td>50</td>\n",
       "      <td>11</td>\n",
       "      <td>Katze</td>\n",
       "    </tr>\n",
       "    <tr>\n",
       "      <td>51</td>\n",
       "      <td>11</td>\n",
       "      <td>Panda</td>\n",
       "    </tr>\n",
       "    <tr>\n",
       "      <td>52</td>\n",
       "      <td>11</td>\n",
       "      <td>Affe</td>\n",
       "    </tr>\n",
       "    <tr>\n",
       "      <td>53</td>\n",
       "      <td>11</td>\n",
       "      <td>Papagei</td>\n",
       "    </tr>\n",
       "    <tr>\n",
       "      <td>54</td>\n",
       "      <td>12</td>\n",
       "      <td>Island</td>\n",
       "    </tr>\n",
       "    <tr>\n",
       "      <td>55</td>\n",
       "      <td>12</td>\n",
       "      <td>Japan</td>\n",
       "    </tr>\n",
       "    <tr>\n",
       "      <td>56</td>\n",
       "      <td>12</td>\n",
       "      <td>Australien</td>\n",
       "    </tr>\n",
       "    <tr>\n",
       "      <td>57</td>\n",
       "      <td>12</td>\n",
       "      <td>Kanada</td>\n",
       "    </tr>\n",
       "  </tbody>\n",
       "</table>"
      ],
      "text/plain": [
       "<IPython.core.display.HTML object>"
      ]
     },
     "metadata": {},
     "output_type": "display_data"
    }
   ],
   "source": [
    "display(HTML(f\"<h3>Table: User</h3><p>user_id =1</p>\"))\n",
    "display(HTML(pd.read_sql(db.query(models.User).filter(models.User.user_id==user_id).statement,db.bind).to_html(index=False)))\n",
    "\n",
    "display(HTML(f\"<h3>Table: Steckbrief</h3><p>steckbrief_id =1</p>\"))\n",
    "display(HTML(pd.read_sql(db.query(models.Steckbrief).filter(models.Steckbrief.steckbrief_id==steckbrief_id).statement,db.bind).to_html(index=False)))\n",
    "\n",
    "display(HTML(f\"<h3>Table: Steckbrief_Fragen</h3><p>steckbrief_id =1</p>\"))\n",
    "display(HTML(pd.read_sql(db.query(models.Steckbrief_Frage).filter(models.Steckbrief_Frage.steckbrief_id==steckbrief_id).statement,db.bind).to_html(index=False)))\n",
    "\n",
    "display(HTML(f\"<h3>Table: Frage</h3>\"))\n",
    "display(HTML(pd.read_sql(db.query(models.Frage).statement,db.bind).to_html(index=False)))\n",
    "\n",
    "display(HTML(f\"<h3>Table: Dummy_Antwort</h3>\"))\n",
    "display(HTML(pd.read_sql(db.query(models.Dummy_Antwort).statement,db.bind).to_html(index=False)))"
   ]
  },
  {
   "cell_type": "markdown",
   "id": "f41eedd5",
   "metadata": {},
   "source": [
    "## Step 1 - Get questions and answers as single table\n",
    "\n",
    "Join Tables User + Steckbrief + Steckbrief_Frage + Frage"
   ]
  },
  {
   "cell_type": "code",
   "execution_count": 5,
   "id": "2479521f",
   "metadata": {
    "scrolled": true
   },
   "outputs": [
    {
     "data": {
      "text/html": [
       "<h3>SQL</h3>"
      ],
      "text/plain": [
       "<IPython.core.display.HTML object>"
      ]
     },
     "metadata": {},
     "output_type": "display_data"
    },
    {
     "name": "stdout",
     "output_type": "stream",
     "text": [
      "SELECT steckbrief.steckbrief_id AS steckbrief_steckbrief_id, frage.frage_id AS frage_frage_id, frage.frage AS frage_frage, steckbrief_frage.antwort AS steckbrief_frage_antwort \n",
      "FROM steckbrief, frage, steckbrief_frage, user \n",
      "WHERE user.steckbrief_id = steckbrief.steckbrief_id AND steckbrief.steckbrief_id = steckbrief_frage.steckbrief_id AND steckbrief_frage.frage_id = frage.frage_id AND user.user_id = ?\n"
     ]
    },
    {
     "data": {
      "text/html": [
       "<h3>Result</h3>"
      ],
      "text/plain": [
       "<IPython.core.display.HTML object>"
      ]
     },
     "metadata": {},
     "output_type": "display_data"
    },
    {
     "data": {
      "text/html": [
       "<table border=\"1\" class=\"dataframe\">\n",
       "  <thead>\n",
       "    <tr style=\"text-align: right;\">\n",
       "      <th>frage_id</th>\n",
       "      <th>frage</th>\n",
       "      <th>antwort</th>\n",
       "    </tr>\n",
       "  </thead>\n",
       "  <tbody>\n",
       "    <tr>\n",
       "      <td>1</td>\n",
       "      <td>Was ist deine Lieblings-Programmiersprache?</td>\n",
       "      <td>Python</td>\n",
       "    </tr>\n",
       "    <tr>\n",
       "      <td>2</td>\n",
       "      <td>Was ist der Sinn des Lebens?</td>\n",
       "      <td>42</td>\n",
       "    </tr>\n",
       "    <tr>\n",
       "      <td>3</td>\n",
       "      <td>Was ist dein Lieblingsgetränk?</td>\n",
       "      <td>Paulaner Spezi</td>\n",
       "    </tr>\n",
       "    <tr>\n",
       "      <td>4</td>\n",
       "      <td>Welche Nudelsorte isst du am liebsten?</td>\n",
       "      <td>Spaghetti</td>\n",
       "    </tr>\n",
       "    <tr>\n",
       "      <td>5</td>\n",
       "      <td>Was ist deine Lieblings-Eissorte</td>\n",
       "      <td>Schlumpfeis</td>\n",
       "    </tr>\n",
       "    <tr>\n",
       "      <td>6</td>\n",
       "      <td>Was ist dein Lieblings-Hobby</td>\n",
       "      <td>Videospiele</td>\n",
       "    </tr>\n",
       "    <tr>\n",
       "      <td>7</td>\n",
       "      <td>Welche Superkraft hättest du am liebsten?</td>\n",
       "      <td>Zeitreisen</td>\n",
       "    </tr>\n",
       "    <tr>\n",
       "      <td>11</td>\n",
       "      <td>Was ist dein Lieblingstier?</td>\n",
       "      <td>Hund</td>\n",
       "    </tr>\n",
       "    <tr>\n",
       "      <td>12</td>\n",
       "      <td>An welchen Ort würdest du gerne reisen?</td>\n",
       "      <td>Irland</td>\n",
       "    </tr>\n",
       "  </tbody>\n",
       "</table>"
      ],
      "text/plain": [
       "<IPython.core.display.HTML object>"
      ]
     },
     "metadata": {},
     "output_type": "display_data"
    }
   ],
   "source": [
    "query= db.query(models.User,models.Steckbrief,models.Steckbrief_Frage,models.Frage)\\\n",
    ".with_entities(models.Steckbrief.steckbrief_id,models.Frage.frage_id,models.Frage.frage,models.Steckbrief_Frage.antwort)\\\n",
    ".filter(models.User.steckbrief_id==models.Steckbrief.steckbrief_id,\n",
    "models.Steckbrief.steckbrief_id==models.Steckbrief_Frage.steckbrief_id,\n",
    "models.Steckbrief_Frage.frage_id==models.Frage.frage_id,\n",
    "models.User.user_id==user_id)\n",
    "\n",
    "display(HTML(f\"<h3>SQL</h3>\"))\n",
    "print(query)\n",
    "\n",
    "display(HTML(f\"<h3>Result</h3>\"))\n",
    "\n",
    "df_frage_antwort=pd.read_sql(query.statement,db.bind)[[\"frage_id\",\"frage\",\"antwort\"]]\n",
    "\n",
    "display(HTML(df_frage_antwort.to_html(index=False)))"
   ]
  },
  {
   "cell_type": "markdown",
   "id": "6ffb85b1",
   "metadata": {},
   "source": [
    "## Step 2 - Get matching dummy answers"
   ]
  },
  {
   "cell_type": "code",
   "execution_count": 6,
   "id": "3d2bed10",
   "metadata": {
    "scrolled": false
   },
   "outputs": [
    {
     "data": {
      "text/html": [
       "<h3>SQL</h3>"
      ],
      "text/plain": [
       "<IPython.core.display.HTML object>"
      ]
     },
     "metadata": {},
     "output_type": "display_data"
    },
    {
     "name": "stdout",
     "output_type": "stream",
     "text": [
      "SELECT dummy_antwort.dummy_antwort_id AS dummy_antwort_dummy_antwort_id, dummy_antwort.frage_id AS dummy_antwort_frage_id, dummy_antwort.antwort AS dummy_antwort_antwort \n",
      "FROM dummy_antwort \n",
      "WHERE dummy_antwort.frage_id IN (?, ?, ?, ?, ?, ?, ?, ?, ?)\n"
     ]
    },
    {
     "data": {
      "text/html": [
       "<h3>Result - Example</h3>"
      ],
      "text/plain": [
       "<IPython.core.display.HTML object>"
      ]
     },
     "metadata": {},
     "output_type": "display_data"
    },
    {
     "data": {
      "text/html": [
       "<table border=\"1\" class=\"dataframe\">\n",
       "  <thead>\n",
       "    <tr style=\"text-align: right;\">\n",
       "      <th>dummy_antwort_id</th>\n",
       "      <th>frage_id</th>\n",
       "      <th>antwort</th>\n",
       "    </tr>\n",
       "  </thead>\n",
       "  <tbody>\n",
       "    <tr>\n",
       "      <td>1</td>\n",
       "      <td>1</td>\n",
       "      <td>Java</td>\n",
       "    </tr>\n",
       "    <tr>\n",
       "      <td>2</td>\n",
       "      <td>1</td>\n",
       "      <td>R</td>\n",
       "    </tr>\n",
       "    <tr>\n",
       "      <td>3</td>\n",
       "      <td>1</td>\n",
       "      <td>Rust</td>\n",
       "    </tr>\n",
       "    <tr>\n",
       "      <td>4</td>\n",
       "      <td>1</td>\n",
       "      <td>Scala</td>\n",
       "    </tr>\n",
       "    <tr>\n",
       "      <td>5</td>\n",
       "      <td>1</td>\n",
       "      <td>Kotlin</td>\n",
       "    </tr>\n",
       "    <tr>\n",
       "      <td>6</td>\n",
       "      <td>1</td>\n",
       "      <td>Swift</td>\n",
       "    </tr>\n",
       "    <tr>\n",
       "      <td>7</td>\n",
       "      <td>2</td>\n",
       "      <td>Leben</td>\n",
       "    </tr>\n",
       "    <tr>\n",
       "      <td>8</td>\n",
       "      <td>2</td>\n",
       "      <td>Keine Ahnung</td>\n",
       "    </tr>\n",
       "    <tr>\n",
       "      <td>9</td>\n",
       "      <td>2</td>\n",
       "      <td>Genießen</td>\n",
       "    </tr>\n",
       "    <tr>\n",
       "      <td>10</td>\n",
       "      <td>2</td>\n",
       "      <td>Den ganzen Tag Hamburger essen</td>\n",
       "    </tr>\n",
       "  </tbody>\n",
       "</table>"
      ],
      "text/plain": [
       "<IPython.core.display.HTML object>"
      ]
     },
     "metadata": {},
     "output_type": "display_data"
    },
    {
     "name": "stdout",
     "output_type": "stream",
     "text": [
      "...\n"
     ]
    }
   ],
   "source": [
    "query = db.query(models.Dummy_Antwort).filter(models.Dummy_Antwort.frage_id.in_(df_frage_antwort[\"frage_id\"].tolist())) \n",
    "    \n",
    "dummy_answers = pd.read_sql(db.query(models.Dummy_Antwort).filter(models.Dummy_Antwort.frage_id.in_(df_frage_antwort[\"frage_id\"].tolist())).statement, db.bind)\n",
    "\n",
    "display(HTML(f\"<h3>SQL</h3>\"))\n",
    "print(query)\n",
    "\n",
    "display(HTML(f\"<h3>Result - Example</h3>\"))\n",
    "display(HTML(dummy_answers.head(10).to_html(index=False)))\n",
    "print(\"...\")"
   ]
  },
  {
   "cell_type": "markdown",
   "id": "2f01ac09",
   "metadata": {},
   "source": [
    "## Step 3 - Join dummy answers to questions and convert them as list"
   ]
  },
  {
   "cell_type": "code",
   "execution_count": 7,
   "id": "095aff6c",
   "metadata": {},
   "outputs": [
    {
     "data": {
      "text/html": [
       "<table border=\"1\" class=\"dataframe\">\n",
       "  <thead>\n",
       "    <tr style=\"text-align: right;\">\n",
       "      <th>frage_id</th>\n",
       "      <th>frage</th>\n",
       "      <th>antwort_original</th>\n",
       "      <th>antwort_extra</th>\n",
       "    </tr>\n",
       "  </thead>\n",
       "  <tbody>\n",
       "    <tr>\n",
       "      <td>1</td>\n",
       "      <td>Was ist deine Lieblings-Programmiersprache?</td>\n",
       "      <td>Python</td>\n",
       "      <td>[Java, R, Rust, Scala, Kotlin, Swift]</td>\n",
       "    </tr>\n",
       "    <tr>\n",
       "      <td>2</td>\n",
       "      <td>Was ist der Sinn des Lebens?</td>\n",
       "      <td>42</td>\n",
       "      <td>[Leben, Keine Ahnung, Genießen, Den ganzen Tag Hamburger essen]</td>\n",
       "    </tr>\n",
       "    <tr>\n",
       "      <td>3</td>\n",
       "      <td>Was ist dein Lieblingsgetränk?</td>\n",
       "      <td>Paulaner Spezi</td>\n",
       "      <td>[Kölsch, Alt, Cola, Radler, Költ]</td>\n",
       "    </tr>\n",
       "    <tr>\n",
       "      <td>4</td>\n",
       "      <td>Welche Nudelsorte isst du am liebsten?</td>\n",
       "      <td>Spaghetti</td>\n",
       "      <td>[Penne, Cannelloni, Farfalle, Gnocchi, Fettuccine]</td>\n",
       "    </tr>\n",
       "    <tr>\n",
       "      <td>5</td>\n",
       "      <td>Was ist deine Lieblings-Eissorte</td>\n",
       "      <td>Schlumpfeis</td>\n",
       "      <td>[Schokolade, Zitrone, Vanille, Cookie, Waldmeister]</td>\n",
       "    </tr>\n",
       "    <tr>\n",
       "      <td>6</td>\n",
       "      <td>Was ist dein Lieblings-Hobby</td>\n",
       "      <td>Videospiele</td>\n",
       "      <td>[Schwimmen, Fahrrad fahren, Schach, Kanufahren, Klettern]</td>\n",
       "    </tr>\n",
       "    <tr>\n",
       "      <td>7</td>\n",
       "      <td>Welche Superkraft hättest du am liebsten?</td>\n",
       "      <td>Zeitreisen</td>\n",
       "      <td>[Fliegen, Unsichtbarkeit, Gedanken liebsten, Laseraugen]</td>\n",
       "    </tr>\n",
       "    <tr>\n",
       "      <td>11</td>\n",
       "      <td>Was ist dein Lieblingstier?</td>\n",
       "      <td>Hund</td>\n",
       "      <td>[Hund, Katze, Panda, Affe, Papagei]</td>\n",
       "    </tr>\n",
       "    <tr>\n",
       "      <td>12</td>\n",
       "      <td>An welchen Ort würdest du gerne reisen?</td>\n",
       "      <td>Irland</td>\n",
       "      <td>[Island, Japan, Australien, Kanada]</td>\n",
       "    </tr>\n",
       "  </tbody>\n",
       "</table>"
      ],
      "text/plain": [
       "<IPython.core.display.HTML object>"
      ]
     },
     "metadata": {},
     "output_type": "display_data"
    }
   ],
   "source": [
    "df_merged=(df_frage_antwort.merge(dummy_answers.groupby('frage_id')['antwort']\\\n",
    "                                  .apply(list),how=\"left\",on=\"frage_id\",suffixes=[\"_original\",\"_extra\"]))\n",
    "\n",
    "display(HTML(df_merged.to_html(index=False)))"
   ]
  },
  {
   "cell_type": "markdown",
   "id": "19957e13",
   "metadata": {},
   "source": [
    "## Step 4 - Create question catalog from joined table"
   ]
  },
  {
   "cell_type": "code",
   "execution_count": 8,
   "id": "7c2c17b0",
   "metadata": {},
   "outputs": [],
   "source": [
    "quiz_dict=df_merged.T.to_dict().values()\n",
    "quiz_list=[]"
   ]
  },
  {
   "cell_type": "markdown",
   "id": "5299287e",
   "metadata": {},
   "source": [
    "## Example of one iteration"
   ]
  },
  {
   "cell_type": "code",
   "execution_count": 12,
   "id": "415748c0",
   "metadata": {},
   "outputs": [
    {
     "data": {
      "text/html": [
       "<h4>Before</h4>"
      ],
      "text/plain": [
       "<IPython.core.display.HTML object>"
      ]
     },
     "metadata": {},
     "output_type": "display_data"
    },
    {
     "name": "stdout",
     "output_type": "stream",
     "text": [
      "{'antwort_extra': ['Swift', 'Kotlin', 'Rust', 'Java', 'R', 'Scala'],\n",
      " 'antwort_original': 'Python',\n",
      " 'frage': 'Was ist deine Lieblings-Programmiersprache?',\n",
      " 'frage_id': 1}\n"
     ]
    },
    {
     "data": {
      "text/html": [
       "<h4>Add original answer to catalog</h4>"
      ],
      "text/plain": [
       "<IPython.core.display.HTML object>"
      ]
     },
     "metadata": {},
     "output_type": "display_data"
    },
    {
     "name": "stdout",
     "output_type": "stream",
     "text": [
      "\"Catalog: ['Python']\"\n"
     ]
    },
    {
     "data": {
      "text/html": [
       "<h4>Shuffle extra answers</h4>"
      ],
      "text/plain": [
       "<IPython.core.display.HTML object>"
      ]
     },
     "metadata": {},
     "output_type": "display_data"
    },
    {
     "name": "stdout",
     "output_type": "stream",
     "text": [
      "\"Before: ['Swift', 'Kotlin', 'Rust', 'Java', 'R', 'Scala']\"\n",
      "\"After:  ['Java', 'Kotlin', 'Rust', 'Scala', 'R', 'Swift']\"\n"
     ]
    },
    {
     "data": {
      "text/html": [
       "<h4>Append 3 answers to catalog and shuffle again</h4>"
      ],
      "text/plain": [
       "<IPython.core.display.HTML object>"
      ]
     },
     "metadata": {},
     "output_type": "display_data"
    },
    {
     "name": "stdout",
     "output_type": "stream",
     "text": [
      "\"Final catalog: ['Kotlin', 'Rust', 'Java', 'Python']\"\n"
     ]
    },
    {
     "data": {
      "text/html": [
       "<h4>Resultobject for one question</h4>"
      ],
      "text/plain": [
       "<IPython.core.display.HTML object>"
      ]
     },
     "metadata": {},
     "output_type": "display_data"
    },
    {
     "name": "stdout",
     "output_type": "stream",
     "text": [
      "{'antwort_original': 'Python',\n",
      " 'catalog': ['Kotlin', 'Rust', 'Java', 'Python'],\n",
      " 'frage': 'Was ist deine Lieblings-Programmiersprache?',\n",
      " 'frage_id': 1}\n"
     ]
    },
    {
     "data": {
      "text/html": [
       "<h4>Before</h4>"
      ],
      "text/plain": [
       "<IPython.core.display.HTML object>"
      ]
     },
     "metadata": {},
     "output_type": "display_data"
    },
    {
     "name": "stdout",
     "output_type": "stream",
     "text": [
      "{'antwort_extra': ['Leben',\n",
      "                   'Genießen',\n",
      "                   'Den ganzen Tag Hamburger essen',\n",
      "                   'Keine Ahnung'],\n",
      " 'antwort_original': '42',\n",
      " 'frage': 'Was ist der Sinn des Lebens?',\n",
      " 'frage_id': 2}\n"
     ]
    },
    {
     "data": {
      "text/html": [
       "<h4>Add original answer to catalog</h4>"
      ],
      "text/plain": [
       "<IPython.core.display.HTML object>"
      ]
     },
     "metadata": {},
     "output_type": "display_data"
    },
    {
     "name": "stdout",
     "output_type": "stream",
     "text": [
      "\"Catalog: ['42']\"\n"
     ]
    },
    {
     "data": {
      "text/html": [
       "<h4>Shuffle extra answers</h4>"
      ],
      "text/plain": [
       "<IPython.core.display.HTML object>"
      ]
     },
     "metadata": {},
     "output_type": "display_data"
    },
    {
     "name": "stdout",
     "output_type": "stream",
     "text": [
      "(\"Before: ['Leben', 'Genießen', 'Den ganzen Tag Hamburger essen', 'Keine \"\n",
      " \"Ahnung']\")\n",
      "(\"After:  ['Genießen', 'Den ganzen Tag Hamburger essen', 'Leben', 'Keine \"\n",
      " \"Ahnung']\")\n"
     ]
    },
    {
     "data": {
      "text/html": [
       "<h4>Append 3 answers to catalog and shuffle again</h4>"
      ],
      "text/plain": [
       "<IPython.core.display.HTML object>"
      ]
     },
     "metadata": {},
     "output_type": "display_data"
    },
    {
     "name": "stdout",
     "output_type": "stream",
     "text": [
      "\"Final catalog: ['Genießen', '42', 'Leben', 'Den ganzen Tag Hamburger essen']\"\n"
     ]
    },
    {
     "data": {
      "text/html": [
       "<h4>Resultobject for one question</h4>"
      ],
      "text/plain": [
       "<IPython.core.display.HTML object>"
      ]
     },
     "metadata": {},
     "output_type": "display_data"
    },
    {
     "name": "stdout",
     "output_type": "stream",
     "text": [
      "{'antwort_original': '42',\n",
      " 'catalog': ['Genießen', '42', 'Leben', 'Den ganzen Tag Hamburger essen'],\n",
      " 'frage': 'Was ist der Sinn des Lebens?',\n",
      " 'frage_id': 2}\n"
     ]
    },
    {
     "data": {
      "text/html": [
       "<h4>Before</h4>"
      ],
      "text/plain": [
       "<IPython.core.display.HTML object>"
      ]
     },
     "metadata": {},
     "output_type": "display_data"
    },
    {
     "name": "stdout",
     "output_type": "stream",
     "text": [
      "{'antwort_extra': ['Radler', 'Kölsch', 'Költ', 'Cola', 'Alt'],\n",
      " 'antwort_original': 'Paulaner Spezi',\n",
      " 'frage': 'Was ist dein Lieblingsgetränk?',\n",
      " 'frage_id': 3}\n"
     ]
    },
    {
     "data": {
      "text/html": [
       "<h4>Add original answer to catalog</h4>"
      ],
      "text/plain": [
       "<IPython.core.display.HTML object>"
      ]
     },
     "metadata": {},
     "output_type": "display_data"
    },
    {
     "name": "stdout",
     "output_type": "stream",
     "text": [
      "\"Catalog: ['Paulaner Spezi']\"\n"
     ]
    },
    {
     "data": {
      "text/html": [
       "<h4>Shuffle extra answers</h4>"
      ],
      "text/plain": [
       "<IPython.core.display.HTML object>"
      ]
     },
     "metadata": {},
     "output_type": "display_data"
    },
    {
     "name": "stdout",
     "output_type": "stream",
     "text": [
      "\"Before: ['Radler', 'Kölsch', 'Költ', 'Cola', 'Alt']\"\n",
      "\"After:  ['Költ', 'Cola', 'Radler', 'Alt', 'Kölsch']\"\n"
     ]
    },
    {
     "data": {
      "text/html": [
       "<h4>Append 3 answers to catalog and shuffle again</h4>"
      ],
      "text/plain": [
       "<IPython.core.display.HTML object>"
      ]
     },
     "metadata": {},
     "output_type": "display_data"
    },
    {
     "name": "stdout",
     "output_type": "stream",
     "text": [
      "\"Final catalog: ['Radler', 'Költ', 'Paulaner Spezi', 'Cola']\"\n"
     ]
    },
    {
     "data": {
      "text/html": [
       "<h4>Resultobject for one question</h4>"
      ],
      "text/plain": [
       "<IPython.core.display.HTML object>"
      ]
     },
     "metadata": {},
     "output_type": "display_data"
    },
    {
     "name": "stdout",
     "output_type": "stream",
     "text": [
      "{'antwort_original': 'Paulaner Spezi',\n",
      " 'catalog': ['Radler', 'Költ', 'Paulaner Spezi', 'Cola'],\n",
      " 'frage': 'Was ist dein Lieblingsgetränk?',\n",
      " 'frage_id': 3}\n"
     ]
    },
    {
     "data": {
      "text/html": [
       "<h4>Before</h4>"
      ],
      "text/plain": [
       "<IPython.core.display.HTML object>"
      ]
     },
     "metadata": {},
     "output_type": "display_data"
    },
    {
     "name": "stdout",
     "output_type": "stream",
     "text": [
      "{'antwort_extra': ['Gnocchi', 'Cannelloni', 'Farfalle', 'Penne', 'Fettuccine'],\n",
      " 'antwort_original': 'Spaghetti',\n",
      " 'frage': 'Welche Nudelsorte isst du am liebsten?',\n",
      " 'frage_id': 4}\n"
     ]
    },
    {
     "data": {
      "text/html": [
       "<h4>Add original answer to catalog</h4>"
      ],
      "text/plain": [
       "<IPython.core.display.HTML object>"
      ]
     },
     "metadata": {},
     "output_type": "display_data"
    },
    {
     "name": "stdout",
     "output_type": "stream",
     "text": [
      "\"Catalog: ['Spaghetti']\"\n"
     ]
    },
    {
     "data": {
      "text/html": [
       "<h4>Shuffle extra answers</h4>"
      ],
      "text/plain": [
       "<IPython.core.display.HTML object>"
      ]
     },
     "metadata": {},
     "output_type": "display_data"
    },
    {
     "name": "stdout",
     "output_type": "stream",
     "text": [
      "\"Before: ['Gnocchi', 'Cannelloni', 'Farfalle', 'Penne', 'Fettuccine']\"\n",
      "\"After:  ['Farfalle', 'Penne', 'Gnocchi', 'Fettuccine', 'Cannelloni']\"\n"
     ]
    },
    {
     "data": {
      "text/html": [
       "<h4>Append 3 answers to catalog and shuffle again</h4>"
      ],
      "text/plain": [
       "<IPython.core.display.HTML object>"
      ]
     },
     "metadata": {},
     "output_type": "display_data"
    },
    {
     "name": "stdout",
     "output_type": "stream",
     "text": [
      "\"Final catalog: ['Penne', 'Farfalle', 'Spaghetti', 'Gnocchi']\"\n"
     ]
    },
    {
     "data": {
      "text/html": [
       "<h4>Resultobject for one question</h4>"
      ],
      "text/plain": [
       "<IPython.core.display.HTML object>"
      ]
     },
     "metadata": {},
     "output_type": "display_data"
    },
    {
     "name": "stdout",
     "output_type": "stream",
     "text": [
      "{'antwort_original': 'Spaghetti',\n",
      " 'catalog': ['Penne', 'Farfalle', 'Spaghetti', 'Gnocchi'],\n",
      " 'frage': 'Welche Nudelsorte isst du am liebsten?',\n",
      " 'frage_id': 4}\n"
     ]
    },
    {
     "data": {
      "text/html": [
       "<h4>Before</h4>"
      ],
      "text/plain": [
       "<IPython.core.display.HTML object>"
      ]
     },
     "metadata": {},
     "output_type": "display_data"
    },
    {
     "name": "stdout",
     "output_type": "stream",
     "text": [
      "{'antwort_extra': ['Waldmeister', 'Vanille', 'Cookie', 'Zitrone', 'Schokolade'],\n",
      " 'antwort_original': 'Schlumpfeis',\n",
      " 'frage': 'Was ist deine Lieblings-Eissorte',\n",
      " 'frage_id': 5}\n"
     ]
    },
    {
     "data": {
      "text/html": [
       "<h4>Add original answer to catalog</h4>"
      ],
      "text/plain": [
       "<IPython.core.display.HTML object>"
      ]
     },
     "metadata": {},
     "output_type": "display_data"
    },
    {
     "name": "stdout",
     "output_type": "stream",
     "text": [
      "\"Catalog: ['Schlumpfeis']\"\n"
     ]
    },
    {
     "data": {
      "text/html": [
       "<h4>Shuffle extra answers</h4>"
      ],
      "text/plain": [
       "<IPython.core.display.HTML object>"
      ]
     },
     "metadata": {},
     "output_type": "display_data"
    },
    {
     "name": "stdout",
     "output_type": "stream",
     "text": [
      "\"Before: ['Waldmeister', 'Vanille', 'Cookie', 'Zitrone', 'Schokolade']\"\n",
      "\"After:  ['Vanille', 'Cookie', 'Schokolade', 'Zitrone', 'Waldmeister']\"\n"
     ]
    },
    {
     "data": {
      "text/html": [
       "<h4>Append 3 answers to catalog and shuffle again</h4>"
      ],
      "text/plain": [
       "<IPython.core.display.HTML object>"
      ]
     },
     "metadata": {},
     "output_type": "display_data"
    },
    {
     "name": "stdout",
     "output_type": "stream",
     "text": [
      "\"Final catalog: ['Schlumpfeis', 'Schokolade', 'Cookie', 'Vanille']\"\n"
     ]
    },
    {
     "data": {
      "text/html": [
       "<h4>Resultobject for one question</h4>"
      ],
      "text/plain": [
       "<IPython.core.display.HTML object>"
      ]
     },
     "metadata": {},
     "output_type": "display_data"
    },
    {
     "name": "stdout",
     "output_type": "stream",
     "text": [
      "{'antwort_original': 'Schlumpfeis',\n",
      " 'catalog': ['Schlumpfeis', 'Schokolade', 'Cookie', 'Vanille'],\n",
      " 'frage': 'Was ist deine Lieblings-Eissorte',\n",
      " 'frage_id': 5}\n"
     ]
    },
    {
     "data": {
      "text/html": [
       "<h4>Before</h4>"
      ],
      "text/plain": [
       "<IPython.core.display.HTML object>"
      ]
     },
     "metadata": {},
     "output_type": "display_data"
    },
    {
     "name": "stdout",
     "output_type": "stream",
     "text": [
      "{'antwort_extra': ['Schwimmen',\n",
      "                   'Schach',\n",
      "                   'Klettern',\n",
      "                   'Kanufahren',\n",
      "                   'Fahrrad fahren'],\n",
      " 'antwort_original': 'Videospiele',\n",
      " 'frage': 'Was ist dein Lieblings-Hobby',\n",
      " 'frage_id': 6}\n"
     ]
    },
    {
     "data": {
      "text/html": [
       "<h4>Add original answer to catalog</h4>"
      ],
      "text/plain": [
       "<IPython.core.display.HTML object>"
      ]
     },
     "metadata": {},
     "output_type": "display_data"
    },
    {
     "name": "stdout",
     "output_type": "stream",
     "text": [
      "\"Catalog: ['Videospiele']\"\n"
     ]
    },
    {
     "data": {
      "text/html": [
       "<h4>Shuffle extra answers</h4>"
      ],
      "text/plain": [
       "<IPython.core.display.HTML object>"
      ]
     },
     "metadata": {},
     "output_type": "display_data"
    },
    {
     "name": "stdout",
     "output_type": "stream",
     "text": [
      "\"Before: ['Schwimmen', 'Schach', 'Klettern', 'Kanufahren', 'Fahrrad fahren']\"\n",
      "\"After:  ['Fahrrad fahren', 'Klettern', 'Schach', 'Kanufahren', 'Schwimmen']\"\n"
     ]
    },
    {
     "data": {
      "text/html": [
       "<h4>Append 3 answers to catalog and shuffle again</h4>"
      ],
      "text/plain": [
       "<IPython.core.display.HTML object>"
      ]
     },
     "metadata": {},
     "output_type": "display_data"
    },
    {
     "name": "stdout",
     "output_type": "stream",
     "text": [
      "\"Final catalog: ['Klettern', 'Videospiele', 'Schach', 'Fahrrad fahren']\"\n"
     ]
    },
    {
     "data": {
      "text/html": [
       "<h4>Resultobject for one question</h4>"
      ],
      "text/plain": [
       "<IPython.core.display.HTML object>"
      ]
     },
     "metadata": {},
     "output_type": "display_data"
    },
    {
     "name": "stdout",
     "output_type": "stream",
     "text": [
      "{'antwort_original': 'Videospiele',\n",
      " 'catalog': ['Klettern', 'Videospiele', 'Schach', 'Fahrrad fahren'],\n",
      " 'frage': 'Was ist dein Lieblings-Hobby',\n",
      " 'frage_id': 6}\n"
     ]
    },
    {
     "data": {
      "text/html": [
       "<h4>Before</h4>"
      ],
      "text/plain": [
       "<IPython.core.display.HTML object>"
      ]
     },
     "metadata": {},
     "output_type": "display_data"
    },
    {
     "name": "stdout",
     "output_type": "stream",
     "text": [
      "{'antwort_extra': ['Laseraugen',\n",
      "                   'Gedanken liebsten',\n",
      "                   'Fliegen',\n",
      "                   'Unsichtbarkeit'],\n",
      " 'antwort_original': 'Zeitreisen',\n",
      " 'frage': 'Welche Superkraft hättest du am liebsten?',\n",
      " 'frage_id': 7}\n"
     ]
    },
    {
     "data": {
      "text/html": [
       "<h4>Add original answer to catalog</h4>"
      ],
      "text/plain": [
       "<IPython.core.display.HTML object>"
      ]
     },
     "metadata": {},
     "output_type": "display_data"
    },
    {
     "name": "stdout",
     "output_type": "stream",
     "text": [
      "\"Catalog: ['Zeitreisen']\"\n"
     ]
    },
    {
     "data": {
      "text/html": [
       "<h4>Shuffle extra answers</h4>"
      ],
      "text/plain": [
       "<IPython.core.display.HTML object>"
      ]
     },
     "metadata": {},
     "output_type": "display_data"
    },
    {
     "name": "stdout",
     "output_type": "stream",
     "text": [
      "\"Before: ['Laseraugen', 'Gedanken liebsten', 'Fliegen', 'Unsichtbarkeit']\"\n",
      "\"After:  ['Gedanken liebsten', 'Unsichtbarkeit', 'Fliegen', 'Laseraugen']\"\n"
     ]
    },
    {
     "data": {
      "text/html": [
       "<h4>Append 3 answers to catalog and shuffle again</h4>"
      ],
      "text/plain": [
       "<IPython.core.display.HTML object>"
      ]
     },
     "metadata": {},
     "output_type": "display_data"
    },
    {
     "name": "stdout",
     "output_type": "stream",
     "text": [
      "(\"Final catalog: ['Gedanken liebsten', 'Zeitreisen', 'Fliegen', \"\n",
      " \"'Unsichtbarkeit']\")\n"
     ]
    },
    {
     "data": {
      "text/html": [
       "<h4>Resultobject for one question</h4>"
      ],
      "text/plain": [
       "<IPython.core.display.HTML object>"
      ]
     },
     "metadata": {},
     "output_type": "display_data"
    },
    {
     "name": "stdout",
     "output_type": "stream",
     "text": [
      "{'antwort_original': 'Zeitreisen',\n",
      " 'catalog': ['Gedanken liebsten', 'Zeitreisen', 'Fliegen', 'Unsichtbarkeit'],\n",
      " 'frage': 'Welche Superkraft hättest du am liebsten?',\n",
      " 'frage_id': 7}\n"
     ]
    },
    {
     "data": {
      "text/html": [
       "<h4>Before</h4>"
      ],
      "text/plain": [
       "<IPython.core.display.HTML object>"
      ]
     },
     "metadata": {},
     "output_type": "display_data"
    },
    {
     "name": "stdout",
     "output_type": "stream",
     "text": [
      "{'antwort_extra': ['Hund', 'Papagei', 'Affe', 'Panda', 'Katze'],\n",
      " 'antwort_original': 'Hund',\n",
      " 'frage': 'Was ist dein Lieblingstier?',\n",
      " 'frage_id': 11}\n"
     ]
    },
    {
     "data": {
      "text/html": [
       "<h4>Add original answer to catalog</h4>"
      ],
      "text/plain": [
       "<IPython.core.display.HTML object>"
      ]
     },
     "metadata": {},
     "output_type": "display_data"
    },
    {
     "name": "stdout",
     "output_type": "stream",
     "text": [
      "\"Catalog: ['Hund']\"\n"
     ]
    },
    {
     "data": {
      "text/html": [
       "<h4>Shuffle extra answers</h4>"
      ],
      "text/plain": [
       "<IPython.core.display.HTML object>"
      ]
     },
     "metadata": {},
     "output_type": "display_data"
    },
    {
     "name": "stdout",
     "output_type": "stream",
     "text": [
      "\"Before: ['Hund', 'Papagei', 'Affe', 'Panda', 'Katze']\"\n",
      "\"After:  ['Hund', 'Katze', 'Affe', 'Papagei', 'Panda']\"\n"
     ]
    },
    {
     "data": {
      "text/html": [
       "<h4>Append 3 answers to catalog and shuffle again</h4>"
      ],
      "text/plain": [
       "<IPython.core.display.HTML object>"
      ]
     },
     "metadata": {},
     "output_type": "display_data"
    },
    {
     "name": "stdout",
     "output_type": "stream",
     "text": [
      "\"Final catalog: ['Katze', 'Affe', 'Hund', 'Papagei']\"\n"
     ]
    },
    {
     "data": {
      "text/html": [
       "<h4>Resultobject for one question</h4>"
      ],
      "text/plain": [
       "<IPython.core.display.HTML object>"
      ]
     },
     "metadata": {},
     "output_type": "display_data"
    },
    {
     "name": "stdout",
     "output_type": "stream",
     "text": [
      "{'antwort_original': 'Hund',\n",
      " 'catalog': ['Katze', 'Affe', 'Hund', 'Papagei'],\n",
      " 'frage': 'Was ist dein Lieblingstier?',\n",
      " 'frage_id': 11}\n"
     ]
    },
    {
     "data": {
      "text/html": [
       "<h4>Before</h4>"
      ],
      "text/plain": [
       "<IPython.core.display.HTML object>"
      ]
     },
     "metadata": {},
     "output_type": "display_data"
    },
    {
     "name": "stdout",
     "output_type": "stream",
     "text": [
      "{'antwort_extra': ['Australien', 'Island', 'Japan', 'Kanada'],\n",
      " 'antwort_original': 'Irland',\n",
      " 'frage': 'An welchen Ort würdest du gerne reisen?',\n",
      " 'frage_id': 12}\n"
     ]
    },
    {
     "data": {
      "text/html": [
       "<h4>Add original answer to catalog</h4>"
      ],
      "text/plain": [
       "<IPython.core.display.HTML object>"
      ]
     },
     "metadata": {},
     "output_type": "display_data"
    },
    {
     "name": "stdout",
     "output_type": "stream",
     "text": [
      "\"Catalog: ['Irland']\"\n"
     ]
    },
    {
     "data": {
      "text/html": [
       "<h4>Shuffle extra answers</h4>"
      ],
      "text/plain": [
       "<IPython.core.display.HTML object>"
      ]
     },
     "metadata": {},
     "output_type": "display_data"
    },
    {
     "name": "stdout",
     "output_type": "stream",
     "text": [
      "\"Before: ['Australien', 'Island', 'Japan', 'Kanada']\"\n",
      "\"After:  ['Australien', 'Island', 'Kanada', 'Japan']\"\n"
     ]
    },
    {
     "data": {
      "text/html": [
       "<h4>Append 3 answers to catalog and shuffle again</h4>"
      ],
      "text/plain": [
       "<IPython.core.display.HTML object>"
      ]
     },
     "metadata": {},
     "output_type": "display_data"
    },
    {
     "name": "stdout",
     "output_type": "stream",
     "text": [
      "\"Final catalog: ['Irland', 'Island', 'Australien', 'Kanada']\"\n"
     ]
    },
    {
     "data": {
      "text/html": [
       "<h4>Resultobject for one question</h4>"
      ],
      "text/plain": [
       "<IPython.core.display.HTML object>"
      ]
     },
     "metadata": {},
     "output_type": "display_data"
    },
    {
     "name": "stdout",
     "output_type": "stream",
     "text": [
      "{'antwort_original': 'Irland',\n",
      " 'catalog': ['Irland', 'Island', 'Australien', 'Kanada'],\n",
      " 'frage': 'An welchen Ort würdest du gerne reisen?',\n",
      " 'frage_id': 12}\n"
     ]
    }
   ],
   "source": [
    "for item in list(quiz_dict):\n",
    "    row = dict(item)\n",
    "    display(HTML(\"<h4>Before</h4>\"))\n",
    "    pprint(row)\n",
    "    catalog=[]\n",
    "    catalog.append(row[\"antwort_original\"])\n",
    "    display(HTML(\"<h4>Add original answer to catalog</h4>\"))\n",
    "    pprint(f\"Catalog: {catalog}\")\n",
    "    \n",
    "    display(HTML(\"<h4>Shuffle extra answers</h4>\"))\n",
    "    pprint(f\"Before: {row['antwort_extra']}\")\n",
    "    random.shuffle(row[\"antwort_extra\"])\n",
    "    pprint(f\"After:  {row['antwort_extra']}\")\n",
    "    \n",
    "    display(HTML(\"<h4>Append 3 answers to catalog and shuffle again</h4>\"))\n",
    "    catalog+=[x for x in row[\"antwort_extra\"] if x!=row[\"antwort_original\"]][:3]\n",
    "    random.shuffle(catalog)\n",
    "    pprint(f\"Final catalog: {catalog}\")\n",
    "    row[\"catalog\"]=catalog\n",
    "    del row['antwort_extra']\n",
    "    \n",
    "    display(HTML(\"<h4>Resultobject for one question</h4>\"))\n",
    "    pprint(row)\n",
    "    "
   ]
  },
  {
   "cell_type": "code",
   "execution_count": null,
   "id": "6817fd37",
   "metadata": {},
   "outputs": [],
   "source": []
  }
 ],
 "metadata": {
  "kernelspec": {
   "display_name": "Python 3",
   "language": "python",
   "name": "python3"
  },
  "language_info": {
   "codemirror_mode": {
    "name": "ipython",
    "version": 3
   },
   "file_extension": ".py",
   "mimetype": "text/x-python",
   "name": "python",
   "nbconvert_exporter": "python",
   "pygments_lexer": "ipython3",
   "version": "3.8.8"
  }
 },
 "nbformat": 4,
 "nbformat_minor": 5
}
