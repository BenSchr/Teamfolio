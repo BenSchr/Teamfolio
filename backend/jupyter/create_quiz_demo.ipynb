{
 "cells": [
  {
   "cell_type": "code",
   "execution_count": 5,
   "id": "c22a75b2",
   "metadata": {},
   "outputs": [],
   "source": [
    "from sqlalchemy.orm import Session\n",
    "import sys\n",
    "sys.path.append('..')\n",
    "from app import models\n",
    "from app.database import engine,SessionLocal\n",
    "from pprint import pprint\n",
    "import pandas as pd\n",
    "from fastapi.encoders import jsonable_encoder\n",
    "import random\n",
    "from IPython.display import HTML"
   ]
  },
  {
   "cell_type": "code",
   "execution_count": 6,
   "id": "ef9576a8",
   "metadata": {},
   "outputs": [],
   "source": [
    "db = SessionLocal()"
   ]
  },
  {
   "cell_type": "markdown",
   "id": "5ff7a589",
   "metadata": {},
   "source": [
    "# Logic to create the quiz for a single user\n",
    "\n",
    "Example userId = 1"
   ]
  },
  {
   "cell_type": "code",
   "execution_count": 39,
   "id": "339610bc",
   "metadata": {},
   "outputs": [],
   "source": [
    "user_id=1\n",
    "steckbrief_id=1"
   ]
  },
  {
   "cell_type": "markdown",
   "id": "623df3e6",
   "metadata": {},
   "source": [
    "## Used tables"
   ]
  },
  {
   "cell_type": "code",
   "execution_count": 40,
   "id": "05e84893",
   "metadata": {},
   "outputs": [
    {
     "data": {
      "text/html": [
       "<h3>Table: User</h3><p>user_id =1</p>"
      ],
      "text/plain": [
       "<IPython.core.display.HTML object>"
      ]
     },
     "metadata": {},
     "output_type": "display_data"
    },
    {
     "data": {
      "text/html": [
       "<table border=\"1\" class=\"dataframe\">\n",
       "  <thead>\n",
       "    <tr style=\"text-align: right;\">\n",
       "      <th>user_id</th>\n",
       "      <th>abteilung_id</th>\n",
       "      <th>steckbrief_id</th>\n",
       "      <th>beruf</th>\n",
       "      <th>vorname</th>\n",
       "      <th>nachname</th>\n",
       "      <th>geburtsdatum</th>\n",
       "    </tr>\n",
       "  </thead>\n",
       "  <tbody>\n",
       "    <tr>\n",
       "      <td>1</td>\n",
       "      <td>1</td>\n",
       "      <td>1</td>\n",
       "      <td>Grafiker</td>\n",
       "      <td>Marco</td>\n",
       "      <td>Gerken</td>\n",
       "      <td>1993-05-12</td>\n",
       "    </tr>\n",
       "  </tbody>\n",
       "</table>"
      ],
      "text/plain": [
       "<IPython.core.display.HTML object>"
      ]
     },
     "metadata": {},
     "output_type": "display_data"
    },
    {
     "data": {
      "text/html": [
       "<h3>Table: Steckbrief</h3><p>steckbrief_id =1</p>"
      ],
      "text/plain": [
       "<IPython.core.display.HTML object>"
      ]
     },
     "metadata": {},
     "output_type": "display_data"
    },
    {
     "data": {
      "text/html": [
       "<table border=\"1\" class=\"dataframe\">\n",
       "  <thead>\n",
       "    <tr style=\"text-align: right;\">\n",
       "      <th>steckbrief_id</th>\n",
       "      <th>freigegeben</th>\n",
       "    </tr>\n",
       "  </thead>\n",
       "  <tbody>\n",
       "    <tr>\n",
       "      <td>1</td>\n",
       "      <td>True</td>\n",
       "    </tr>\n",
       "  </tbody>\n",
       "</table>"
      ],
      "text/plain": [
       "<IPython.core.display.HTML object>"
      ]
     },
     "metadata": {},
     "output_type": "display_data"
    },
    {
     "data": {
      "text/html": [
       "<h3>Table: Steckbrief_Fragen</h3><p>steckbrief_id =1</p>"
      ],
      "text/plain": [
       "<IPython.core.display.HTML object>"
      ]
     },
     "metadata": {},
     "output_type": "display_data"
    },
    {
     "data": {
      "text/html": [
       "<table border=\"1\" class=\"dataframe\">\n",
       "  <thead>\n",
       "    <tr style=\"text-align: right;\">\n",
       "      <th>steckbrief_id</th>\n",
       "      <th>frage_id</th>\n",
       "      <th>antwort</th>\n",
       "    </tr>\n",
       "  </thead>\n",
       "  <tbody>\n",
       "    <tr>\n",
       "      <td>1</td>\n",
       "      <td>1</td>\n",
       "      <td>Python</td>\n",
       "    </tr>\n",
       "    <tr>\n",
       "      <td>1</td>\n",
       "      <td>2</td>\n",
       "      <td>42</td>\n",
       "    </tr>\n",
       "    <tr>\n",
       "      <td>1</td>\n",
       "      <td>3</td>\n",
       "      <td>Paulaner Spezi</td>\n",
       "    </tr>\n",
       "    <tr>\n",
       "      <td>1</td>\n",
       "      <td>4</td>\n",
       "      <td>Spaghetti</td>\n",
       "    </tr>\n",
       "  </tbody>\n",
       "</table>"
      ],
      "text/plain": [
       "<IPython.core.display.HTML object>"
      ]
     },
     "metadata": {},
     "output_type": "display_data"
    },
    {
     "data": {
      "text/html": [
       "<h3>Table: Frage</h3>"
      ],
      "text/plain": [
       "<IPython.core.display.HTML object>"
      ]
     },
     "metadata": {},
     "output_type": "display_data"
    },
    {
     "data": {
      "text/html": [
       "<table border=\"1\" class=\"dataframe\">\n",
       "  <thead>\n",
       "    <tr style=\"text-align: right;\">\n",
       "      <th>frage_id</th>\n",
       "      <th>frage</th>\n",
       "    </tr>\n",
       "  </thead>\n",
       "  <tbody>\n",
       "    <tr>\n",
       "      <td>1</td>\n",
       "      <td>Was ist deine Lieblings-Programmiersprache?</td>\n",
       "    </tr>\n",
       "    <tr>\n",
       "      <td>2</td>\n",
       "      <td>Was ist der Sinn des Lebens?</td>\n",
       "    </tr>\n",
       "    <tr>\n",
       "      <td>3</td>\n",
       "      <td>Was ist dein Lieblingsgetränk?</td>\n",
       "    </tr>\n",
       "    <tr>\n",
       "      <td>4</td>\n",
       "      <td>Welche Nudelsorte isst du am liebsten?</td>\n",
       "    </tr>\n",
       "  </tbody>\n",
       "</table>"
      ],
      "text/plain": [
       "<IPython.core.display.HTML object>"
      ]
     },
     "metadata": {},
     "output_type": "display_data"
    },
    {
     "data": {
      "text/html": [
       "<h3>Table: Dummy_Antwort</h3>"
      ],
      "text/plain": [
       "<IPython.core.display.HTML object>"
      ]
     },
     "metadata": {},
     "output_type": "display_data"
    },
    {
     "data": {
      "text/html": [
       "<table border=\"1\" class=\"dataframe\">\n",
       "  <thead>\n",
       "    <tr style=\"text-align: right;\">\n",
       "      <th>dummy_antwort_id</th>\n",
       "      <th>frage_id</th>\n",
       "      <th>antwort</th>\n",
       "    </tr>\n",
       "  </thead>\n",
       "  <tbody>\n",
       "    <tr>\n",
       "      <td>1</td>\n",
       "      <td>1</td>\n",
       "      <td>Java</td>\n",
       "    </tr>\n",
       "    <tr>\n",
       "      <td>2</td>\n",
       "      <td>1</td>\n",
       "      <td>R</td>\n",
       "    </tr>\n",
       "    <tr>\n",
       "      <td>3</td>\n",
       "      <td>1</td>\n",
       "      <td>Rust</td>\n",
       "    </tr>\n",
       "    <tr>\n",
       "      <td>4</td>\n",
       "      <td>1</td>\n",
       "      <td>Scala</td>\n",
       "    </tr>\n",
       "    <tr>\n",
       "      <td>5</td>\n",
       "      <td>1</td>\n",
       "      <td>Kotlin</td>\n",
       "    </tr>\n",
       "    <tr>\n",
       "      <td>6</td>\n",
       "      <td>1</td>\n",
       "      <td>Swift</td>\n",
       "    </tr>\n",
       "    <tr>\n",
       "      <td>7</td>\n",
       "      <td>2</td>\n",
       "      <td>Leben</td>\n",
       "    </tr>\n",
       "    <tr>\n",
       "      <td>8</td>\n",
       "      <td>2</td>\n",
       "      <td>Keine Ahnung</td>\n",
       "    </tr>\n",
       "    <tr>\n",
       "      <td>9</td>\n",
       "      <td>2</td>\n",
       "      <td>Genießen</td>\n",
       "    </tr>\n",
       "    <tr>\n",
       "      <td>10</td>\n",
       "      <td>2</td>\n",
       "      <td>Den ganzen Tag Hamburger essen</td>\n",
       "    </tr>\n",
       "    <tr>\n",
       "      <td>11</td>\n",
       "      <td>3</td>\n",
       "      <td>Kölsch</td>\n",
       "    </tr>\n",
       "    <tr>\n",
       "      <td>12</td>\n",
       "      <td>3</td>\n",
       "      <td>Alt</td>\n",
       "    </tr>\n",
       "    <tr>\n",
       "      <td>13</td>\n",
       "      <td>3</td>\n",
       "      <td>Cola</td>\n",
       "    </tr>\n",
       "    <tr>\n",
       "      <td>14</td>\n",
       "      <td>3</td>\n",
       "      <td>Radler</td>\n",
       "    </tr>\n",
       "    <tr>\n",
       "      <td>15</td>\n",
       "      <td>3</td>\n",
       "      <td>Költ</td>\n",
       "    </tr>\n",
       "    <tr>\n",
       "      <td>16</td>\n",
       "      <td>4</td>\n",
       "      <td>Penne</td>\n",
       "    </tr>\n",
       "    <tr>\n",
       "      <td>17</td>\n",
       "      <td>4</td>\n",
       "      <td>Cannelloni</td>\n",
       "    </tr>\n",
       "    <tr>\n",
       "      <td>18</td>\n",
       "      <td>4</td>\n",
       "      <td>Farfalle</td>\n",
       "    </tr>\n",
       "    <tr>\n",
       "      <td>19</td>\n",
       "      <td>4</td>\n",
       "      <td>Gnocchi</td>\n",
       "    </tr>\n",
       "    <tr>\n",
       "      <td>20</td>\n",
       "      <td>4</td>\n",
       "      <td>Fettuccine</td>\n",
       "    </tr>\n",
       "  </tbody>\n",
       "</table>"
      ],
      "text/plain": [
       "<IPython.core.display.HTML object>"
      ]
     },
     "metadata": {},
     "output_type": "display_data"
    }
   ],
   "source": [
    "display(HTML(f\"<h3>Table: User</h3><p>user_id =1</p>\"))\n",
    "display(HTML(pd.read_sql(db.query(models.User).filter(models.User.user_id==user_id).statement,db.bind).to_html(index=False)))\n",
    "\n",
    "display(HTML(f\"<h3>Table: Steckbrief</h3><p>steckbrief_id =1</p>\"))\n",
    "display(HTML(pd.read_sql(db.query(models.Steckbrief).filter(models.Steckbrief.steckbrief_id==steckbrief_id).statement,db.bind).to_html(index=False)))\n",
    "\n",
    "display(HTML(f\"<h3>Table: Steckbrief_Fragen</h3><p>steckbrief_id =1</p>\"))\n",
    "display(HTML(pd.read_sql(db.query(models.Steckbrief_Frage).filter(models.Steckbrief_Frage.steckbrief_id==steckbrief_id).statement,db.bind).to_html(index=False)))\n",
    "\n",
    "display(HTML(f\"<h3>Table: Frage</h3>\"))\n",
    "display(HTML(pd.read_sql(db.query(models.Frage).statement,db.bind).to_html(index=False)))\n",
    "\n",
    "display(HTML(f\"<h3>Table: Dummy_Antwort</h3>\"))\n",
    "display(HTML(pd.read_sql(db.query(models.Dummy_Antwort).statement,db.bind).to_html(index=False)))"
   ]
  },
  {
   "cell_type": "markdown",
   "id": "ca4c847f",
   "metadata": {},
   "source": [
    "## Step 1 - Get questions and answers as single table\n",
    "\n",
    "Join Tables User + Steckbrief + Steckbrief_Frage + Frage"
   ]
  },
  {
   "cell_type": "code",
   "execution_count": 61,
   "id": "40ba9f5c",
   "metadata": {
    "scrolled": true
   },
   "outputs": [
    {
     "data": {
      "text/html": [
       "<h3>SQL</h3>"
      ],
      "text/plain": [
       "<IPython.core.display.HTML object>"
      ]
     },
     "metadata": {},
     "output_type": "display_data"
    },
    {
     "name": "stdout",
     "output_type": "stream",
     "text": [
      "SELECT steckbrief.steckbrief_id AS steckbrief_steckbrief_id, frage.frage_id AS frage_frage_id, frage.frage AS frage_frage, steckbrief_frage.antwort AS steckbrief_frage_antwort \n",
      "FROM steckbrief, frage, steckbrief_frage, user \n",
      "WHERE user.steckbrief_id = steckbrief.steckbrief_id AND steckbrief.steckbrief_id = steckbrief_frage.steckbrief_id AND steckbrief_frage.frage_id = frage.frage_id AND user.user_id = ?\n"
     ]
    },
    {
     "data": {
      "text/html": [
       "<h3>Result</h3>"
      ],
      "text/plain": [
       "<IPython.core.display.HTML object>"
      ]
     },
     "metadata": {},
     "output_type": "display_data"
    },
    {
     "data": {
      "text/html": [
       "<table border=\"1\" class=\"dataframe\">\n",
       "  <thead>\n",
       "    <tr style=\"text-align: right;\">\n",
       "      <th>frage_id</th>\n",
       "      <th>frage</th>\n",
       "      <th>antwort</th>\n",
       "    </tr>\n",
       "  </thead>\n",
       "  <tbody>\n",
       "    <tr>\n",
       "      <td>1</td>\n",
       "      <td>Was ist deine Lieblings-Programmiersprache?</td>\n",
       "      <td>Python</td>\n",
       "    </tr>\n",
       "    <tr>\n",
       "      <td>2</td>\n",
       "      <td>Was ist der Sinn des Lebens?</td>\n",
       "      <td>42</td>\n",
       "    </tr>\n",
       "    <tr>\n",
       "      <td>3</td>\n",
       "      <td>Was ist dein Lieblingsgetränk?</td>\n",
       "      <td>Paulaner Spezi</td>\n",
       "    </tr>\n",
       "    <tr>\n",
       "      <td>4</td>\n",
       "      <td>Welche Nudelsorte isst du am liebsten?</td>\n",
       "      <td>Spaghetti</td>\n",
       "    </tr>\n",
       "  </tbody>\n",
       "</table>"
      ],
      "text/plain": [
       "<IPython.core.display.HTML object>"
      ]
     },
     "metadata": {},
     "output_type": "display_data"
    }
   ],
   "source": [
    "query= db.query(models.User,models.Steckbrief,models.Steckbrief_Frage,models.Frage)\\\n",
    ".with_entities(models.Steckbrief.steckbrief_id,models.Frage.frage_id,models.Frage.frage,models.Steckbrief_Frage.antwort)\\\n",
    ".filter(models.User.steckbrief_id==models.Steckbrief.steckbrief_id,\n",
    "models.Steckbrief.steckbrief_id==models.Steckbrief_Frage.steckbrief_id,\n",
    "models.Steckbrief_Frage.frage_id==models.Frage.frage_id,\n",
    "models.User.user_id==user_id)\n",
    "\n",
    "display(HTML(f\"<h3>SQL</h3>\"))\n",
    "print(query)\n",
    "\n",
    "display(HTML(f\"<h3>Result</h3>\"))\n",
    "\n",
    "df_frage_antwort=pd.read_sql(query.statement,db.bind)[[\"frage_id\",\"frage\",\"antwort\"]]\n",
    "\n",
    "display(HTML(df_frage_antwort.to_html(index=False)))"
   ]
  },
  {
   "cell_type": "markdown",
   "id": "3a291623",
   "metadata": {},
   "source": [
    "## Step 2 - Get matching dummy answers"
   ]
  },
  {
   "cell_type": "code",
   "execution_count": 71,
   "id": "7288c0bd",
   "metadata": {
    "scrolled": false
   },
   "outputs": [
    {
     "data": {
      "text/html": [
       "<h3>SQL</h3>"
      ],
      "text/plain": [
       "<IPython.core.display.HTML object>"
      ]
     },
     "metadata": {},
     "output_type": "display_data"
    },
    {
     "name": "stdout",
     "output_type": "stream",
     "text": [
      "SELECT dummy_antwort.dummy_antwort_id AS dummy_antwort_dummy_antwort_id, dummy_antwort.frage_id AS dummy_antwort_frage_id, dummy_antwort.antwort AS dummy_antwort_antwort \n",
      "FROM dummy_antwort \n",
      "WHERE dummy_antwort.frage_id IN (?, ?, ?, ?)\n"
     ]
    },
    {
     "data": {
      "text/html": [
       "<h3>Result - Example</h3>"
      ],
      "text/plain": [
       "<IPython.core.display.HTML object>"
      ]
     },
     "metadata": {},
     "output_type": "display_data"
    },
    {
     "data": {
      "text/html": [
       "<table border=\"1\" class=\"dataframe\">\n",
       "  <thead>\n",
       "    <tr style=\"text-align: right;\">\n",
       "      <th>dummy_antwort_id</th>\n",
       "      <th>frage_id</th>\n",
       "      <th>antwort</th>\n",
       "    </tr>\n",
       "  </thead>\n",
       "  <tbody>\n",
       "    <tr>\n",
       "      <td>1</td>\n",
       "      <td>1</td>\n",
       "      <td>Java</td>\n",
       "    </tr>\n",
       "    <tr>\n",
       "      <td>2</td>\n",
       "      <td>1</td>\n",
       "      <td>R</td>\n",
       "    </tr>\n",
       "    <tr>\n",
       "      <td>3</td>\n",
       "      <td>1</td>\n",
       "      <td>Rust</td>\n",
       "    </tr>\n",
       "    <tr>\n",
       "      <td>4</td>\n",
       "      <td>1</td>\n",
       "      <td>Scala</td>\n",
       "    </tr>\n",
       "    <tr>\n",
       "      <td>5</td>\n",
       "      <td>1</td>\n",
       "      <td>Kotlin</td>\n",
       "    </tr>\n",
       "    <tr>\n",
       "      <td>6</td>\n",
       "      <td>1</td>\n",
       "      <td>Swift</td>\n",
       "    </tr>\n",
       "    <tr>\n",
       "      <td>7</td>\n",
       "      <td>2</td>\n",
       "      <td>Leben</td>\n",
       "    </tr>\n",
       "    <tr>\n",
       "      <td>8</td>\n",
       "      <td>2</td>\n",
       "      <td>Keine Ahnung</td>\n",
       "    </tr>\n",
       "    <tr>\n",
       "      <td>9</td>\n",
       "      <td>2</td>\n",
       "      <td>Genießen</td>\n",
       "    </tr>\n",
       "    <tr>\n",
       "      <td>10</td>\n",
       "      <td>2</td>\n",
       "      <td>Den ganzen Tag Hamburger essen</td>\n",
       "    </tr>\n",
       "  </tbody>\n",
       "</table>"
      ],
      "text/plain": [
       "<IPython.core.display.HTML object>"
      ]
     },
     "metadata": {},
     "output_type": "display_data"
    },
    {
     "name": "stdout",
     "output_type": "stream",
     "text": [
      "...\n"
     ]
    }
   ],
   "source": [
    "query = db.query(models.Dummy_Antwort).filter(models.Dummy_Antwort.frage_id.in_(df[\"frage_id\"].tolist())) \n",
    "    \n",
    "dummy_answers = pd.read_sql(db.query(models.Dummy_Antwort).filter(models.Dummy_Antwort.frage_id.in_(df[\"frage_id\"].tolist())).statement, db.bind)\n",
    "\n",
    "display(HTML(f\"<h3>SQL</h3>\"))\n",
    "print(query)\n",
    "\n",
    "display(HTML(f\"<h3>Result - Example</h3>\"))\n",
    "display(HTML(dummy_answers.head(10).to_html(index=False)))\n",
    "print(\"...\")"
   ]
  },
  {
   "cell_type": "markdown",
   "id": "83143e7d",
   "metadata": {},
   "source": [
    "## Step 3 - Join dummy answers to questions and convert them as list"
   ]
  },
  {
   "cell_type": "code",
   "execution_count": 74,
   "id": "2392b8eb",
   "metadata": {},
   "outputs": [
    {
     "data": {
      "text/html": [
       "<table border=\"1\" class=\"dataframe\">\n",
       "  <thead>\n",
       "    <tr style=\"text-align: right;\">\n",
       "      <th>frage_id</th>\n",
       "      <th>frage</th>\n",
       "      <th>antwort_original</th>\n",
       "      <th>antwort_extra</th>\n",
       "    </tr>\n",
       "  </thead>\n",
       "  <tbody>\n",
       "    <tr>\n",
       "      <td>1</td>\n",
       "      <td>Was ist deine Lieblings-Programmiersprache?</td>\n",
       "      <td>Python</td>\n",
       "      <td>[Java, R, Rust, Scala, Kotlin, Swift]</td>\n",
       "    </tr>\n",
       "    <tr>\n",
       "      <td>2</td>\n",
       "      <td>Was ist der Sinn des Lebens?</td>\n",
       "      <td>42</td>\n",
       "      <td>[Leben, Keine Ahnung, Genießen, Den ganzen Tag Hamburger essen]</td>\n",
       "    </tr>\n",
       "    <tr>\n",
       "      <td>3</td>\n",
       "      <td>Was ist dein Lieblingsgetränk?</td>\n",
       "      <td>Paulaner Spezi</td>\n",
       "      <td>[Kölsch, Alt, Cola, Radler, Költ]</td>\n",
       "    </tr>\n",
       "    <tr>\n",
       "      <td>4</td>\n",
       "      <td>Welche Nudelsorte isst du am liebsten?</td>\n",
       "      <td>Spaghetti</td>\n",
       "      <td>[Penne, Cannelloni, Farfalle, Gnocchi, Fettuccine]</td>\n",
       "    </tr>\n",
       "  </tbody>\n",
       "</table>"
      ],
      "text/plain": [
       "<IPython.core.display.HTML object>"
      ]
     },
     "metadata": {},
     "output_type": "display_data"
    }
   ],
   "source": [
    "df_merged=(df_frage_antwort.merge(dummy_answers.groupby('frage_id')['antwort']\\\n",
    "                                  .apply(list),how=\"left\",on=\"frage_id\",suffixes=[\"_original\",\"_extra\"]))\n",
    "\n",
    "display(HTML(df_merged.to_html(index=False)))"
   ]
  },
  {
   "cell_type": "markdown",
   "id": "52ed6bf5",
   "metadata": {},
   "source": [
    "## Step 4 - Create question catalog from joined table"
   ]
  },
  {
   "cell_type": "code",
   "execution_count": 101,
   "id": "ee1609ba",
   "metadata": {},
   "outputs": [],
   "source": [
    "quiz_dict=df_merged.T.to_dict().values()\n",
    "quiz_list=[]"
   ]
  },
  {
   "cell_type": "markdown",
   "id": "51108b97",
   "metadata": {},
   "source": [
    "## Example of one iteration"
   ]
  },
  {
   "cell_type": "code",
   "execution_count": 123,
   "id": "2ed3c2a2",
   "metadata": {},
   "outputs": [
    {
     "data": {
      "text/html": [
       "<h4>Before</h4>"
      ],
      "text/plain": [
       "<IPython.core.display.HTML object>"
      ]
     },
     "metadata": {},
     "output_type": "display_data"
    },
    {
     "name": "stdout",
     "output_type": "stream",
     "text": [
      "{'antwort_extra': ['Java', 'Rust', 'Kotlin', 'R', 'Scala', 'Swift'],\n",
      " 'antwort_original': 'Python',\n",
      " 'frage': 'Was ist deine Lieblings-Programmiersprache?',\n",
      " 'frage_id': 1}\n"
     ]
    },
    {
     "data": {
      "text/html": [
       "<h4>Add original answer to catalog</h4>"
      ],
      "text/plain": [
       "<IPython.core.display.HTML object>"
      ]
     },
     "metadata": {},
     "output_type": "display_data"
    },
    {
     "name": "stdout",
     "output_type": "stream",
     "text": [
      "\"Catalog: ['Python']\"\n"
     ]
    },
    {
     "data": {
      "text/html": [
       "<h4>Shuffle extra answers</h4>"
      ],
      "text/plain": [
       "<IPython.core.display.HTML object>"
      ]
     },
     "metadata": {},
     "output_type": "display_data"
    },
    {
     "name": "stdout",
     "output_type": "stream",
     "text": [
      "\"Before: ['Java', 'Rust', 'Kotlin', 'R', 'Scala', 'Swift']\"\n",
      "\"After:  ['R', 'Java', 'Rust', 'Scala', 'Swift', 'Kotlin']\"\n"
     ]
    },
    {
     "data": {
      "text/html": [
       "<h4>Append 3 answers to catalog and shuffle again</h4>"
      ],
      "text/plain": [
       "<IPython.core.display.HTML object>"
      ]
     },
     "metadata": {},
     "output_type": "display_data"
    },
    {
     "name": "stdout",
     "output_type": "stream",
     "text": [
      "\"Final catalog: ['Python', 'R', 'Java', 'Rust']\"\n"
     ]
    },
    {
     "data": {
      "text/html": [
       "<h4>Resultobject for one question</h4>"
      ],
      "text/plain": [
       "<IPython.core.display.HTML object>"
      ]
     },
     "metadata": {},
     "output_type": "display_data"
    },
    {
     "name": "stdout",
     "output_type": "stream",
     "text": [
      "{'antwort_original': 'Python',\n",
      " 'catalog': ['Python', 'R', 'Java', 'Rust'],\n",
      " 'frage': 'Was ist deine Lieblings-Programmiersprache?',\n",
      " 'frage_id': 1}\n"
     ]
    }
   ],
   "source": [
    "for item in list(quiz_dict)[:1]:\n",
    "    row = dict(item)\n",
    "    display(HTML(\"<h4>Before</h4>\"))\n",
    "    pprint(row)\n",
    "    catalog=[]\n",
    "    catalog.append(row[\"antwort_original\"])\n",
    "    display(HTML(\"<h4>Add original answer to catalog</h4>\"))\n",
    "    pprint(f\"Catalog: {catalog}\")\n",
    "    \n",
    "    display(HTML(\"<h4>Shuffle extra answers</h4>\"))\n",
    "    pprint(f\"Before: {row['antwort_extra']}\")\n",
    "    random.shuffle(row[\"antwort_extra\"])\n",
    "    pprint(f\"After:  {row['antwort_extra']}\")\n",
    "    \n",
    "    display(HTML(\"<h4>Append 3 answers to catalog and shuffle again</h4>\"))\n",
    "    catalog+=row[\"antwort_extra\"][:3]\n",
    "    random.shuffle(catalog)\n",
    "    pprint(f\"Final catalog: {catalog}\")\n",
    "    row[\"catalog\"]=catalog\n",
    "    del row['antwort_extra']\n",
    "    \n",
    "    display(HTML(\"<h4>Resultobject for one question</h4>\"))\n",
    "    pprint(row)\n",
    "    "
   ]
  }
 ],
 "metadata": {
  "kernelspec": {
   "display_name": "Python 3",
   "language": "python",
   "name": "python3"
  },
  "language_info": {
   "codemirror_mode": {
    "name": "ipython",
    "version": 3
   },
   "file_extension": ".py",
   "mimetype": "text/x-python",
   "name": "python",
   "nbconvert_exporter": "python",
   "pygments_lexer": "ipython3",
   "version": "3.8.8"
  }
 },
 "nbformat": 4,
 "nbformat_minor": 5
}
