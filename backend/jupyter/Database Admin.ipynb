{
 "cells": [
  {
   "cell_type": "markdown",
   "id": "olympic-fitness",
   "metadata": {},
   "source": [
    "### Connection & Imports"
   ]
  },
  {
   "cell_type": "code",
   "execution_count": 1,
   "id": "different-compiler",
   "metadata": {},
   "outputs": [],
   "source": [
    "from sqlalchemy.orm import Session\n",
    "import sys\n",
    "sys.path.append('..')\n",
    "from app import models\n",
    "from app.database import engine,SessionLocal\n",
    "from pprint import pprint\n",
    "import pandas as pd\n",
    "from fastapi.encoders import jsonable_encoder\n",
    "import random"
   ]
  },
  {
   "cell_type": "markdown",
   "id": "a025dddf",
   "metadata": {},
   "source": [
    "### Drop all"
   ]
  },
  {
   "cell_type": "code",
   "execution_count": 2,
   "id": "4cfe0b42",
   "metadata": {},
   "outputs": [],
   "source": [
    "models.Base.metadata.drop_all(bind=engine)"
   ]
  },
  {
   "cell_type": "markdown",
   "id": "236c33d9",
   "metadata": {},
   "source": [
    "### Create all"
   ]
  },
  {
   "cell_type": "code",
   "execution_count": 3,
   "id": "15edffba",
   "metadata": {},
   "outputs": [],
   "source": [
    "models.Base.metadata.create_all(bind=engine)"
   ]
  },
  {
   "cell_type": "markdown",
   "id": "21542f16",
   "metadata": {},
   "source": [
    "### Table Inspection"
   ]
  },
  {
   "cell_type": "code",
   "execution_count": 4,
   "id": "e6bb560b",
   "metadata": {},
   "outputs": [
    {
     "data": {
      "text/html": [
       "<h3>Table: abteilung</h3>"
      ],
      "text/plain": [
       "<IPython.core.display.HTML object>"
      ]
     },
     "metadata": {},
     "output_type": "display_data"
    },
    {
     "data": {
      "text/html": [
       "<table border=\"1\" class=\"dataframe\">\n",
       "  <thead>\n",
       "    <tr style=\"text-align: right;\">\n",
       "      <th>name</th>\n",
       "      <th>type</th>\n",
       "      <th>nullable</th>\n",
       "      <th>default</th>\n",
       "      <th>autoincrement</th>\n",
       "      <th>primary_key</th>\n",
       "    </tr>\n",
       "  </thead>\n",
       "  <tbody>\n",
       "    <tr>\n",
       "      <td>abteilung_id</td>\n",
       "      <td>INTEGER</td>\n",
       "      <td>False</td>\n",
       "      <td>None</td>\n",
       "      <td>auto</td>\n",
       "      <td>1</td>\n",
       "    </tr>\n",
       "    <tr>\n",
       "      <td>name</td>\n",
       "      <td>VARCHAR(50)</td>\n",
       "      <td>True</td>\n",
       "      <td>None</td>\n",
       "      <td>auto</td>\n",
       "      <td>0</td>\n",
       "    </tr>\n",
       "  </tbody>\n",
       "</table>"
      ],
      "text/plain": [
       "<IPython.core.display.HTML object>"
      ]
     },
     "metadata": {},
     "output_type": "display_data"
    },
    {
     "data": {
      "text/html": [
       "<h3>Table: collection</h3>"
      ],
      "text/plain": [
       "<IPython.core.display.HTML object>"
      ]
     },
     "metadata": {},
     "output_type": "display_data"
    },
    {
     "data": {
      "text/html": [
       "<table border=\"1\" class=\"dataframe\">\n",
       "  <thead>\n",
       "    <tr style=\"text-align: right;\">\n",
       "      <th>name</th>\n",
       "      <th>type</th>\n",
       "      <th>nullable</th>\n",
       "      <th>default</th>\n",
       "      <th>autoincrement</th>\n",
       "      <th>primary_key</th>\n",
       "    </tr>\n",
       "  </thead>\n",
       "  <tbody>\n",
       "    <tr>\n",
       "      <td>user_id_aktiv</td>\n",
       "      <td>INTEGER</td>\n",
       "      <td>False</td>\n",
       "      <td>None</td>\n",
       "      <td>auto</td>\n",
       "      <td>1</td>\n",
       "    </tr>\n",
       "    <tr>\n",
       "      <td>user_id_passiv</td>\n",
       "      <td>INTEGER</td>\n",
       "      <td>False</td>\n",
       "      <td>None</td>\n",
       "      <td>auto</td>\n",
       "      <td>2</td>\n",
       "    </tr>\n",
       "  </tbody>\n",
       "</table>"
      ],
      "text/plain": [
       "<IPython.core.display.HTML object>"
      ]
     },
     "metadata": {},
     "output_type": "display_data"
    },
    {
     "data": {
      "text/html": [
       "<h3>Table: dummy_antwort</h3>"
      ],
      "text/plain": [
       "<IPython.core.display.HTML object>"
      ]
     },
     "metadata": {},
     "output_type": "display_data"
    },
    {
     "data": {
      "text/html": [
       "<table border=\"1\" class=\"dataframe\">\n",
       "  <thead>\n",
       "    <tr style=\"text-align: right;\">\n",
       "      <th>name</th>\n",
       "      <th>type</th>\n",
       "      <th>nullable</th>\n",
       "      <th>default</th>\n",
       "      <th>autoincrement</th>\n",
       "      <th>primary_key</th>\n",
       "    </tr>\n",
       "  </thead>\n",
       "  <tbody>\n",
       "    <tr>\n",
       "      <td>dummy_antwort_id</td>\n",
       "      <td>INTEGER</td>\n",
       "      <td>False</td>\n",
       "      <td>None</td>\n",
       "      <td>auto</td>\n",
       "      <td>1</td>\n",
       "    </tr>\n",
       "    <tr>\n",
       "      <td>frage_id</td>\n",
       "      <td>INTEGER</td>\n",
       "      <td>True</td>\n",
       "      <td>None</td>\n",
       "      <td>auto</td>\n",
       "      <td>0</td>\n",
       "    </tr>\n",
       "    <tr>\n",
       "      <td>antwort</td>\n",
       "      <td>VARCHAR(200)</td>\n",
       "      <td>True</td>\n",
       "      <td>None</td>\n",
       "      <td>auto</td>\n",
       "      <td>0</td>\n",
       "    </tr>\n",
       "  </tbody>\n",
       "</table>"
      ],
      "text/plain": [
       "<IPython.core.display.HTML object>"
      ]
     },
     "metadata": {},
     "output_type": "display_data"
    },
    {
     "data": {
      "text/html": [
       "<h3>Table: erfolg</h3>"
      ],
      "text/plain": [
       "<IPython.core.display.HTML object>"
      ]
     },
     "metadata": {},
     "output_type": "display_data"
    },
    {
     "data": {
      "text/html": [
       "<table border=\"1\" class=\"dataframe\">\n",
       "  <thead>\n",
       "    <tr style=\"text-align: right;\">\n",
       "      <th>name</th>\n",
       "      <th>type</th>\n",
       "      <th>nullable</th>\n",
       "      <th>default</th>\n",
       "      <th>autoincrement</th>\n",
       "      <th>primary_key</th>\n",
       "    </tr>\n",
       "  </thead>\n",
       "  <tbody>\n",
       "    <tr>\n",
       "      <td>erfolg_id</td>\n",
       "      <td>INTEGER</td>\n",
       "      <td>False</td>\n",
       "      <td>None</td>\n",
       "      <td>auto</td>\n",
       "      <td>1</td>\n",
       "    </tr>\n",
       "    <tr>\n",
       "      <td>name</td>\n",
       "      <td>VARCHAR(50)</td>\n",
       "      <td>True</td>\n",
       "      <td>None</td>\n",
       "      <td>auto</td>\n",
       "      <td>0</td>\n",
       "    </tr>\n",
       "    <tr>\n",
       "      <td>bildpfad</td>\n",
       "      <td>VARCHAR(200)</td>\n",
       "      <td>True</td>\n",
       "      <td>None</td>\n",
       "      <td>auto</td>\n",
       "      <td>0</td>\n",
       "    </tr>\n",
       "  </tbody>\n",
       "</table>"
      ],
      "text/plain": [
       "<IPython.core.display.HTML object>"
      ]
     },
     "metadata": {},
     "output_type": "display_data"
    },
    {
     "data": {
      "text/html": [
       "<h3>Table: erfolg_user</h3>"
      ],
      "text/plain": [
       "<IPython.core.display.HTML object>"
      ]
     },
     "metadata": {},
     "output_type": "display_data"
    },
    {
     "data": {
      "text/html": [
       "<table border=\"1\" class=\"dataframe\">\n",
       "  <thead>\n",
       "    <tr style=\"text-align: right;\">\n",
       "      <th>name</th>\n",
       "      <th>type</th>\n",
       "      <th>nullable</th>\n",
       "      <th>default</th>\n",
       "      <th>autoincrement</th>\n",
       "      <th>primary_key</th>\n",
       "    </tr>\n",
       "  </thead>\n",
       "  <tbody>\n",
       "    <tr>\n",
       "      <td>user_id</td>\n",
       "      <td>INTEGER</td>\n",
       "      <td>False</td>\n",
       "      <td>None</td>\n",
       "      <td>auto</td>\n",
       "      <td>1</td>\n",
       "    </tr>\n",
       "    <tr>\n",
       "      <td>erfolg_id</td>\n",
       "      <td>INTEGER</td>\n",
       "      <td>False</td>\n",
       "      <td>None</td>\n",
       "      <td>auto</td>\n",
       "      <td>2</td>\n",
       "    </tr>\n",
       "  </tbody>\n",
       "</table>"
      ],
      "text/plain": [
       "<IPython.core.display.HTML object>"
      ]
     },
     "metadata": {},
     "output_type": "display_data"
    },
    {
     "data": {
      "text/html": [
       "<h3>Table: frage</h3>"
      ],
      "text/plain": [
       "<IPython.core.display.HTML object>"
      ]
     },
     "metadata": {},
     "output_type": "display_data"
    },
    {
     "data": {
      "text/html": [
       "<table border=\"1\" class=\"dataframe\">\n",
       "  <thead>\n",
       "    <tr style=\"text-align: right;\">\n",
       "      <th>name</th>\n",
       "      <th>type</th>\n",
       "      <th>nullable</th>\n",
       "      <th>default</th>\n",
       "      <th>autoincrement</th>\n",
       "      <th>primary_key</th>\n",
       "    </tr>\n",
       "  </thead>\n",
       "  <tbody>\n",
       "    <tr>\n",
       "      <td>frage_id</td>\n",
       "      <td>INTEGER</td>\n",
       "      <td>False</td>\n",
       "      <td>None</td>\n",
       "      <td>auto</td>\n",
       "      <td>1</td>\n",
       "    </tr>\n",
       "    <tr>\n",
       "      <td>frage</td>\n",
       "      <td>VARCHAR(200)</td>\n",
       "      <td>True</td>\n",
       "      <td>None</td>\n",
       "      <td>auto</td>\n",
       "      <td>0</td>\n",
       "    </tr>\n",
       "  </tbody>\n",
       "</table>"
      ],
      "text/plain": [
       "<IPython.core.display.HTML object>"
      ]
     },
     "metadata": {},
     "output_type": "display_data"
    },
    {
     "data": {
      "text/html": [
       "<h3>Table: steckbrief</h3>"
      ],
      "text/plain": [
       "<IPython.core.display.HTML object>"
      ]
     },
     "metadata": {},
     "output_type": "display_data"
    },
    {
     "data": {
      "text/html": [
       "<table border=\"1\" class=\"dataframe\">\n",
       "  <thead>\n",
       "    <tr style=\"text-align: right;\">\n",
       "      <th>name</th>\n",
       "      <th>type</th>\n",
       "      <th>nullable</th>\n",
       "      <th>default</th>\n",
       "      <th>autoincrement</th>\n",
       "      <th>primary_key</th>\n",
       "    </tr>\n",
       "  </thead>\n",
       "  <tbody>\n",
       "    <tr>\n",
       "      <td>steckbrief_id</td>\n",
       "      <td>INTEGER</td>\n",
       "      <td>False</td>\n",
       "      <td>None</td>\n",
       "      <td>auto</td>\n",
       "      <td>1</td>\n",
       "    </tr>\n",
       "    <tr>\n",
       "      <td>freigegeben</td>\n",
       "      <td>BOOLEAN</td>\n",
       "      <td>True</td>\n",
       "      <td>'1'</td>\n",
       "      <td>auto</td>\n",
       "      <td>0</td>\n",
       "    </tr>\n",
       "  </tbody>\n",
       "</table>"
      ],
      "text/plain": [
       "<IPython.core.display.HTML object>"
      ]
     },
     "metadata": {},
     "output_type": "display_data"
    },
    {
     "data": {
      "text/html": [
       "<h3>Table: steckbrief_frage</h3>"
      ],
      "text/plain": [
       "<IPython.core.display.HTML object>"
      ]
     },
     "metadata": {},
     "output_type": "display_data"
    },
    {
     "data": {
      "text/html": [
       "<table border=\"1\" class=\"dataframe\">\n",
       "  <thead>\n",
       "    <tr style=\"text-align: right;\">\n",
       "      <th>name</th>\n",
       "      <th>type</th>\n",
       "      <th>nullable</th>\n",
       "      <th>default</th>\n",
       "      <th>autoincrement</th>\n",
       "      <th>primary_key</th>\n",
       "    </tr>\n",
       "  </thead>\n",
       "  <tbody>\n",
       "    <tr>\n",
       "      <td>steckbrief_id</td>\n",
       "      <td>INTEGER</td>\n",
       "      <td>False</td>\n",
       "      <td>None</td>\n",
       "      <td>auto</td>\n",
       "      <td>1</td>\n",
       "    </tr>\n",
       "    <tr>\n",
       "      <td>frage_id</td>\n",
       "      <td>INTEGER</td>\n",
       "      <td>False</td>\n",
       "      <td>None</td>\n",
       "      <td>auto</td>\n",
       "      <td>2</td>\n",
       "    </tr>\n",
       "    <tr>\n",
       "      <td>antwort</td>\n",
       "      <td>VARCHAR(200)</td>\n",
       "      <td>True</td>\n",
       "      <td>None</td>\n",
       "      <td>auto</td>\n",
       "      <td>0</td>\n",
       "    </tr>\n",
       "  </tbody>\n",
       "</table>"
      ],
      "text/plain": [
       "<IPython.core.display.HTML object>"
      ]
     },
     "metadata": {},
     "output_type": "display_data"
    },
    {
     "data": {
      "text/html": [
       "<h3>Table: user</h3>"
      ],
      "text/plain": [
       "<IPython.core.display.HTML object>"
      ]
     },
     "metadata": {},
     "output_type": "display_data"
    },
    {
     "data": {
      "text/html": [
       "<table border=\"1\" class=\"dataframe\">\n",
       "  <thead>\n",
       "    <tr style=\"text-align: right;\">\n",
       "      <th>name</th>\n",
       "      <th>type</th>\n",
       "      <th>nullable</th>\n",
       "      <th>default</th>\n",
       "      <th>autoincrement</th>\n",
       "      <th>primary_key</th>\n",
       "    </tr>\n",
       "  </thead>\n",
       "  <tbody>\n",
       "    <tr>\n",
       "      <td>user_id</td>\n",
       "      <td>INTEGER</td>\n",
       "      <td>False</td>\n",
       "      <td>None</td>\n",
       "      <td>auto</td>\n",
       "      <td>1</td>\n",
       "    </tr>\n",
       "    <tr>\n",
       "      <td>abteilung_id</td>\n",
       "      <td>INTEGER</td>\n",
       "      <td>True</td>\n",
       "      <td>None</td>\n",
       "      <td>auto</td>\n",
       "      <td>0</td>\n",
       "    </tr>\n",
       "    <tr>\n",
       "      <td>steckbrief_id</td>\n",
       "      <td>INTEGER</td>\n",
       "      <td>True</td>\n",
       "      <td>None</td>\n",
       "      <td>auto</td>\n",
       "      <td>0</td>\n",
       "    </tr>\n",
       "    <tr>\n",
       "      <td>beruf</td>\n",
       "      <td>VARCHAR(50)</td>\n",
       "      <td>True</td>\n",
       "      <td>None</td>\n",
       "      <td>auto</td>\n",
       "      <td>0</td>\n",
       "    </tr>\n",
       "    <tr>\n",
       "      <td>vorname</td>\n",
       "      <td>VARCHAR(50)</td>\n",
       "      <td>True</td>\n",
       "      <td>None</td>\n",
       "      <td>auto</td>\n",
       "      <td>0</td>\n",
       "    </tr>\n",
       "    <tr>\n",
       "      <td>nachname</td>\n",
       "      <td>VARCHAR(50)</td>\n",
       "      <td>True</td>\n",
       "      <td>None</td>\n",
       "      <td>auto</td>\n",
       "      <td>0</td>\n",
       "    </tr>\n",
       "    <tr>\n",
       "      <td>geburtsdatum</td>\n",
       "      <td>DATE</td>\n",
       "      <td>True</td>\n",
       "      <td>None</td>\n",
       "      <td>auto</td>\n",
       "      <td>0</td>\n",
       "    </tr>\n",
       "    <tr>\n",
       "      <td>wohnort</td>\n",
       "      <td>VARCHAR(50)</td>\n",
       "      <td>True</td>\n",
       "      <td>None</td>\n",
       "      <td>auto</td>\n",
       "      <td>0</td>\n",
       "    </tr>\n",
       "  </tbody>\n",
       "</table>"
      ],
      "text/plain": [
       "<IPython.core.display.HTML object>"
      ]
     },
     "metadata": {},
     "output_type": "display_data"
    }
   ],
   "source": [
    "from sqlalchemy.engine import reflection\n",
    "from IPython.display import HTML\n",
    "insp = reflection.Inspector.from_engine(engine)\n",
    "\n",
    "for table_name in insp.get_table_names():\n",
    "    display(HTML(f\"<h3>Table: {table_name}</h3>\"))\n",
    "    display(HTML(pd.DataFrame(insp.get_columns(table_name)).to_html(index=False)))"
   ]
  },
  {
   "cell_type": "raw",
   "id": "2b3007aa",
   "metadata": {},
   "source": [
    "import requests"
   ]
  },
  {
   "cell_type": "raw",
   "id": "d292710f",
   "metadata": {},
   "source": [
    "response = requests.get(\"http://localhost:8000/user/\")\n",
    "response.json()"
   ]
  },
  {
   "cell_type": "code",
   "execution_count": 5,
   "id": "946b6cbb",
   "metadata": {},
   "outputs": [],
   "source": [
    "df=pd.read_csv(\"../db/testdata/abteilung.csv\",sep=\";\")\n",
    "df.to_sql(\"abteilung\",engine, if_exists='append',index=False)"
   ]
  },
  {
   "cell_type": "code",
   "execution_count": 6,
   "id": "017b112e",
   "metadata": {},
   "outputs": [],
   "source": [
    "df=pd.read_csv(\"../db/testdata/users.csv\",sep=\";\")\n",
    "df.to_sql(\"user\",engine, if_exists='append',index=False)"
   ]
  },
  {
   "cell_type": "code",
   "execution_count": 7,
   "id": "42ebf49f",
   "metadata": {},
   "outputs": [],
   "source": [
    "df=pd.read_csv(\"../db/testdata/steckbriefe.csv\",sep=\";\")\n",
    "df.to_sql(\"steckbrief\",engine, if_exists='append',index=False)"
   ]
  },
  {
   "cell_type": "code",
   "execution_count": 8,
   "id": "af762817",
   "metadata": {},
   "outputs": [],
   "source": [
    "df=pd.read_csv(\"../db/testdata/steckbrief_frage.csv\",sep=\";\")\n",
    "df.to_sql(\"steckbrief_frage\",engine, if_exists='append',index=False)"
   ]
  },
  {
   "cell_type": "code",
   "execution_count": 9,
   "id": "a640375d",
   "metadata": {},
   "outputs": [],
   "source": [
    "df=pd.read_csv(\"../db/testdata/frage.csv\",sep=\";\")\n",
    "df.to_sql(\"frage\",engine, if_exists='append',index=False)"
   ]
  },
  {
   "cell_type": "code",
   "execution_count": 10,
   "id": "59699583",
   "metadata": {},
   "outputs": [],
   "source": [
    "df=pd.read_csv(\"../db/testdata/dummy_antwort.csv\",sep=\";\")\n",
    "df.to_sql(\"dummy_antwort\",engine, if_exists='append',index=False)"
   ]
  },
  {
   "cell_type": "code",
   "execution_count": 11,
   "id": "7e6dd305",
   "metadata": {},
   "outputs": [],
   "source": [
    "df=pd.read_csv(\"../db/testdata/collection.csv\",sep=\";\")\n",
    "df.to_sql(\"collection\",engine, if_exists='append',index=False)"
   ]
  },
  {
   "cell_type": "code",
   "execution_count": 14,
   "id": "59e3a023",
   "metadata": {},
   "outputs": [],
   "source": [
    "df=pd.read_csv(\"../db/testdata/erfolg.csv\",sep=\";\")\n",
    "df.to_sql(\"erfolg\",engine, if_exists='append',index=False)"
   ]
  },
  {
   "cell_type": "code",
   "execution_count": 52,
   "id": "03283e13",
   "metadata": {},
   "outputs": [],
   "source": [
    "df=pd.read_csv(\"../db/testdata/erfolg_user.csv\",sep=\";\")\n",
    "df.to_sql(\"erfolg_user\",engine, if_exists='append',index=False)"
   ]
  },
  {
   "cell_type": "code",
   "execution_count": 12,
   "id": "4011a326",
   "metadata": {},
   "outputs": [
    {
     "ename": "SyntaxError",
     "evalue": "invalid syntax (<ipython-input-12-4e16a628866f>, line 1)",
     "output_type": "error",
     "traceback": [
      "\u001b[1;36m  File \u001b[1;32m\"<ipython-input-12-4e16a628866f>\"\u001b[1;36m, line \u001b[1;32m1\u001b[0m\n\u001b[1;33m    break()\u001b[0m\n\u001b[1;37m         ^\u001b[0m\n\u001b[1;31mSyntaxError\u001b[0m\u001b[1;31m:\u001b[0m invalid syntax\n"
     ]
    }
   ],
   "source": [
    "break()"
   ]
  },
  {
   "cell_type": "markdown",
   "id": "9b1f23b2",
   "metadata": {},
   "source": [
    "### Examples"
   ]
  },
  {
   "cell_type": "code",
   "execution_count": 16,
   "id": "5ddac4b5",
   "metadata": {},
   "outputs": [],
   "source": [
    "db = SessionLocal()"
   ]
  },
  {
   "cell_type": "code",
   "execution_count": 17,
   "id": "59a384c9",
   "metadata": {},
   "outputs": [],
   "source": [
    "user_id=2"
   ]
  },
  {
   "cell_type": "code",
   "execution_count": 41,
   "id": "a2a8e209",
   "metadata": {},
   "outputs": [
    {
     "data": {
      "text/plain": [
       "4"
      ]
     },
     "execution_count": 41,
     "metadata": {},
     "output_type": "execute_result"
    }
   ],
   "source": [
    "db.query(models.Collection).filter(models.Collection.user_id_aktiv==user_id).count()"
   ]
  },
  {
   "cell_type": "code",
   "execution_count": 65,
   "id": "70bab027",
   "metadata": {},
   "outputs": [
    {
     "data": {
      "text/plain": [
       "[{'id': 1, 'name': '1_User', 'bildpfad': 'erfolg1', 'gesammelt': 1},\n",
       " {'id': 2, 'name': '5_User', 'bildpfad': 'erfolg2', 'gesammelt': 0},\n",
       " {'id': 3, 'name': '10_User', 'bildpfad': 'erfolg3', 'gesammelt': 0}]"
      ]
     },
     "execution_count": 65,
     "metadata": {},
     "output_type": "execute_result"
    }
   ],
   "source": [
    "from sqlalchemy import case\n",
    "\n",
    "\n",
    "collection = db.query(models.Erfolg_User).filter(models.Erfolg_User.user_id==user_id).subquery()\n",
    "\n",
    "check_collected = case([\n",
    "    (collection.c.user_id != None, 1)],\n",
    "        else_=0\n",
    ")\n",
    "\n",
    "\n",
    "result=db.query(models.Erfolg.erfolg_id,models.Erfolg.name,models.Erfolg.bildpfad,check_collected.label('gesammelt')).outerjoin(collection,models.Erfolg.erfolg_id==collection.c.erfolg_id).all()\n",
    "[dict(zip(['id','name','bildpfad','gesammelt'],r)) for r in result]"
   ]
  },
  {
   "cell_type": "code",
   "execution_count": null,
   "id": "4b7834d2",
   "metadata": {},
   "outputs": [],
   "source": [
    "from sqlalchemy import case\n",
    "\n",
    "collection = db.query(models.Collection).filter(models.Collection.user_id_aktiv==user_id).subquery()\n",
    "abteilung=models.Abteilung\n",
    "user=models.User\n",
    "users=db.query(user.user_id,\n",
    "     abteilung.name.label('abteilung'),\n",
    "     user.steckbrief_id,\n",
    "     user.beruf,\n",
    "     user.vorname,\n",
    "     user.nachname,\n",
    "     user.geburtsdatum,\n",
    "     user.wohnort).join(abteilung).subquery()\n",
    "\n",
    "\n",
    "check_collected = case([\n",
    "    (collection.c.user_id_aktiv != None, 1)],\n",
    "        else_=0\n",
    ")\n",
    "\n",
    "db.query(*users.c,check_collected.label('gesammelt')).outerjoin(collection,users.c.user_id==collection.c.user_id_passiv).filter(users.c.user_id!=user_id).all()"
   ]
  },
  {
   "cell_type": "code",
   "execution_count": null,
   "id": "537ba8f4",
   "metadata": {
    "scrolled": true
   },
   "outputs": [],
   "source": [
    "pd.read_sql(SessionLocal().query(models.User).statement,SessionLocal().bind).T.to_dict().values()"
   ]
  },
  {
   "cell_type": "code",
   "execution_count": null,
   "id": "9761bfbd",
   "metadata": {},
   "outputs": [],
   "source": [
    "from sqlalchemy import case\n",
    "\n",
    "my_case = case([\n",
    "        (collection.user_id_aktiv != None, 1)],\n",
    "         else_=0\n",
    ")"
   ]
  },
  {
   "cell_type": "code",
   "execution_count": null,
   "id": "7159b1bd",
   "metadata": {},
   "outputs": [],
   "source": [
    "collection = SessionLocal().query(models.Collection).filter(models.Collection.user_id_aktiv==2).subquery()\n",
    "\n",
    "\n",
    "my_case = case([\n",
    "        (collection.c.user_id_aktiv != None, 1)],\n",
    "         else_=0\n",
    ")\n",
    "\n",
    "pd.read_sql(SessionLocal().query(models.User,my_case.label('gesammelt')).outerjoin(collection,models.User.user_id==collection.c.user_id_passiv).filter(models.User.user_id!=2).statement, SessionLocal().bind)"
   ]
  },
  {
   "cell_type": "code",
   "execution_count": null,
   "id": "973e7963",
   "metadata": {},
   "outputs": [],
   "source": [
    "pd.read_sql(SessionLocal().query(models.Collection.user_id_aktiv,models.Collection.user_id_passiv).filter(models.Collection.user_id_aktiv==2).statement, SessionLocal().bind)"
   ]
  },
  {
   "cell_type": "code",
   "execution_count": null,
   "id": "42550215",
   "metadata": {},
   "outputs": [],
   "source": [
    "collection = SessionLocal().query(models.Collection).filter(models.Collection.user_id_aktiv==2).subquery()\n",
    "    \n",
    "check_collected = case([\n",
    "    (collection.c.user_id_aktiv != None, 1)],\n",
    "        else_=0\n",
    ")\n",
    "\n",
    "print(SessionLocal().query(models.User,check_collected.label('gesammelt')).outerjoin(collection,models.User.user_id==collection.c.user_id_passiv).filter(models.User.user_id!=2))"
   ]
  },
  {
   "cell_type": "code",
   "execution_count": null,
   "id": "7da65bad",
   "metadata": {},
   "outputs": [],
   "source": [
    "for row in SessionLocal().query(models.User,my_case.label('gesammelt')).outerjoin(collection,models.User.user_id==collection.c.user_id_passiv).filter(models.User.user_id!=2).all():\n",
    "    print(row[0].vorname)"
   ]
  }
 ],
 "metadata": {
  "kernelspec": {
   "display_name": "Python 3",
   "language": "python",
   "name": "python3"
  },
  "language_info": {
   "codemirror_mode": {
    "name": "ipython",
    "version": 3
   },
   "file_extension": ".py",
   "mimetype": "text/x-python",
   "name": "python",
   "nbconvert_exporter": "python",
   "pygments_lexer": "ipython3",
   "version": "3.8.8"
  }
 },
 "nbformat": 4,
 "nbformat_minor": 5
}
