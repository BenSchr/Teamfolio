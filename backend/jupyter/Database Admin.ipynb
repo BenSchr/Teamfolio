{
 "cells": [
  {
   "cell_type": "markdown",
   "id": "olympic-fitness",
   "metadata": {},
   "source": [
    "### Connection & Imports"
   ]
  },
  {
   "cell_type": "code",
   "execution_count": 1,
   "id": "different-compiler",
   "metadata": {},
   "outputs": [],
   "source": [
    "from sqlalchemy.orm import Session\n",
    "import sys\n",
    "sys.path.append('..')\n",
    "from app import models\n",
    "from app.database import engine,SessionLocal\n",
    "from pprint import pprint\n",
    "import pandas as pd\n",
    "from fastapi.encoders import jsonable_encoder\n",
    "import random"
   ]
  },
  {
   "cell_type": "markdown",
   "id": "a025dddf",
   "metadata": {},
   "source": [
    "### Drop all"
   ]
  },
  {
   "cell_type": "code",
   "execution_count": 2,
   "id": "4cfe0b42",
   "metadata": {},
   "outputs": [],
   "source": [
    "models.Base.metadata.drop_all(bind=engine)"
   ]
  },
  {
   "cell_type": "markdown",
   "id": "236c33d9",
   "metadata": {},
   "source": [
    "### Create all"
   ]
  },
  {
   "cell_type": "code",
   "execution_count": 3,
   "id": "15edffba",
   "metadata": {},
   "outputs": [],
   "source": [
    "models.Base.metadata.create_all(bind=engine)"
   ]
  },
  {
   "cell_type": "markdown",
   "id": "21542f16",
   "metadata": {},
   "source": [
    "### Table Inspection"
   ]
  },
  {
   "cell_type": "code",
   "execution_count": 4,
   "id": "e6bb560b",
   "metadata": {},
   "outputs": [
    {
     "data": {
      "text/html": [
       "<h3>Table: collection</h3>"
      ],
      "text/plain": [
       "<IPython.core.display.HTML object>"
      ]
     },
     "metadata": {},
     "output_type": "display_data"
    },
    {
     "data": {
      "text/html": [
       "<table border=\"1\" class=\"dataframe\">\n",
       "  <thead>\n",
       "    <tr style=\"text-align: right;\">\n",
       "      <th>name</th>\n",
       "      <th>type</th>\n",
       "      <th>nullable</th>\n",
       "      <th>default</th>\n",
       "      <th>autoincrement</th>\n",
       "      <th>primary_key</th>\n",
       "    </tr>\n",
       "  </thead>\n",
       "  <tbody>\n",
       "    <tr>\n",
       "      <td>user_id_aktiv</td>\n",
       "      <td>INTEGER</td>\n",
       "      <td>False</td>\n",
       "      <td>None</td>\n",
       "      <td>auto</td>\n",
       "      <td>1</td>\n",
       "    </tr>\n",
       "    <tr>\n",
       "      <td>user_id_passiv</td>\n",
       "      <td>INTEGER</td>\n",
       "      <td>False</td>\n",
       "      <td>None</td>\n",
       "      <td>auto</td>\n",
       "      <td>2</td>\n",
       "    </tr>\n",
       "  </tbody>\n",
       "</table>"
      ],
      "text/plain": [
       "<IPython.core.display.HTML object>"
      ]
     },
     "metadata": {},
     "output_type": "display_data"
    },
    {
     "data": {
      "text/html": [
       "<h3>Table: dummy_antwort</h3>"
      ],
      "text/plain": [
       "<IPython.core.display.HTML object>"
      ]
     },
     "metadata": {},
     "output_type": "display_data"
    },
    {
     "data": {
      "text/html": [
       "<table border=\"1\" class=\"dataframe\">\n",
       "  <thead>\n",
       "    <tr style=\"text-align: right;\">\n",
       "      <th>name</th>\n",
       "      <th>type</th>\n",
       "      <th>nullable</th>\n",
       "      <th>default</th>\n",
       "      <th>autoincrement</th>\n",
       "      <th>primary_key</th>\n",
       "    </tr>\n",
       "  </thead>\n",
       "  <tbody>\n",
       "    <tr>\n",
       "      <td>dummy_antwort_id</td>\n",
       "      <td>INTEGER</td>\n",
       "      <td>False</td>\n",
       "      <td>None</td>\n",
       "      <td>auto</td>\n",
       "      <td>1</td>\n",
       "    </tr>\n",
       "    <tr>\n",
       "      <td>frage_id</td>\n",
       "      <td>INTEGER</td>\n",
       "      <td>True</td>\n",
       "      <td>None</td>\n",
       "      <td>auto</td>\n",
       "      <td>0</td>\n",
       "    </tr>\n",
       "    <tr>\n",
       "      <td>antwort</td>\n",
       "      <td>VARCHAR(200)</td>\n",
       "      <td>True</td>\n",
       "      <td>None</td>\n",
       "      <td>auto</td>\n",
       "      <td>0</td>\n",
       "    </tr>\n",
       "  </tbody>\n",
       "</table>"
      ],
      "text/plain": [
       "<IPython.core.display.HTML object>"
      ]
     },
     "metadata": {},
     "output_type": "display_data"
    },
    {
     "data": {
      "text/html": [
       "<h3>Table: frage</h3>"
      ],
      "text/plain": [
       "<IPython.core.display.HTML object>"
      ]
     },
     "metadata": {},
     "output_type": "display_data"
    },
    {
     "data": {
      "text/html": [
       "<table border=\"1\" class=\"dataframe\">\n",
       "  <thead>\n",
       "    <tr style=\"text-align: right;\">\n",
       "      <th>name</th>\n",
       "      <th>type</th>\n",
       "      <th>nullable</th>\n",
       "      <th>default</th>\n",
       "      <th>autoincrement</th>\n",
       "      <th>primary_key</th>\n",
       "    </tr>\n",
       "  </thead>\n",
       "  <tbody>\n",
       "    <tr>\n",
       "      <td>frage_id</td>\n",
       "      <td>INTEGER</td>\n",
       "      <td>False</td>\n",
       "      <td>None</td>\n",
       "      <td>auto</td>\n",
       "      <td>1</td>\n",
       "    </tr>\n",
       "    <tr>\n",
       "      <td>frage</td>\n",
       "      <td>VARCHAR(200)</td>\n",
       "      <td>True</td>\n",
       "      <td>None</td>\n",
       "      <td>auto</td>\n",
       "      <td>0</td>\n",
       "    </tr>\n",
       "  </tbody>\n",
       "</table>"
      ],
      "text/plain": [
       "<IPython.core.display.HTML object>"
      ]
     },
     "metadata": {},
     "output_type": "display_data"
    },
    {
     "data": {
      "text/html": [
       "<h3>Table: steckbrief</h3>"
      ],
      "text/plain": [
       "<IPython.core.display.HTML object>"
      ]
     },
     "metadata": {},
     "output_type": "display_data"
    },
    {
     "data": {
      "text/html": [
       "<table border=\"1\" class=\"dataframe\">\n",
       "  <thead>\n",
       "    <tr style=\"text-align: right;\">\n",
       "      <th>name</th>\n",
       "      <th>type</th>\n",
       "      <th>nullable</th>\n",
       "      <th>default</th>\n",
       "      <th>autoincrement</th>\n",
       "      <th>primary_key</th>\n",
       "    </tr>\n",
       "  </thead>\n",
       "  <tbody>\n",
       "    <tr>\n",
       "      <td>steckbrief_id</td>\n",
       "      <td>INTEGER</td>\n",
       "      <td>False</td>\n",
       "      <td>None</td>\n",
       "      <td>auto</td>\n",
       "      <td>1</td>\n",
       "    </tr>\n",
       "    <tr>\n",
       "      <td>freigegeben</td>\n",
       "      <td>BOOLEAN</td>\n",
       "      <td>True</td>\n",
       "      <td>'1'</td>\n",
       "      <td>auto</td>\n",
       "      <td>0</td>\n",
       "    </tr>\n",
       "  </tbody>\n",
       "</table>"
      ],
      "text/plain": [
       "<IPython.core.display.HTML object>"
      ]
     },
     "metadata": {},
     "output_type": "display_data"
    },
    {
     "data": {
      "text/html": [
       "<h3>Table: steckbrief_frage</h3>"
      ],
      "text/plain": [
       "<IPython.core.display.HTML object>"
      ]
     },
     "metadata": {},
     "output_type": "display_data"
    },
    {
     "data": {
      "text/html": [
       "<table border=\"1\" class=\"dataframe\">\n",
       "  <thead>\n",
       "    <tr style=\"text-align: right;\">\n",
       "      <th>name</th>\n",
       "      <th>type</th>\n",
       "      <th>nullable</th>\n",
       "      <th>default</th>\n",
       "      <th>autoincrement</th>\n",
       "      <th>primary_key</th>\n",
       "    </tr>\n",
       "  </thead>\n",
       "  <tbody>\n",
       "    <tr>\n",
       "      <td>steckbrief_id</td>\n",
       "      <td>INTEGER</td>\n",
       "      <td>False</td>\n",
       "      <td>None</td>\n",
       "      <td>auto</td>\n",
       "      <td>1</td>\n",
       "    </tr>\n",
       "    <tr>\n",
       "      <td>frage_id</td>\n",
       "      <td>INTEGER</td>\n",
       "      <td>False</td>\n",
       "      <td>None</td>\n",
       "      <td>auto</td>\n",
       "      <td>2</td>\n",
       "    </tr>\n",
       "    <tr>\n",
       "      <td>antwort</td>\n",
       "      <td>VARCHAR(200)</td>\n",
       "      <td>True</td>\n",
       "      <td>None</td>\n",
       "      <td>auto</td>\n",
       "      <td>0</td>\n",
       "    </tr>\n",
       "  </tbody>\n",
       "</table>"
      ],
      "text/plain": [
       "<IPython.core.display.HTML object>"
      ]
     },
     "metadata": {},
     "output_type": "display_data"
    },
    {
     "data": {
      "text/html": [
       "<h3>Table: user</h3>"
      ],
      "text/plain": [
       "<IPython.core.display.HTML object>"
      ]
     },
     "metadata": {},
     "output_type": "display_data"
    },
    {
     "data": {
      "text/html": [
       "<table border=\"1\" class=\"dataframe\">\n",
       "  <thead>\n",
       "    <tr style=\"text-align: right;\">\n",
       "      <th>name</th>\n",
       "      <th>type</th>\n",
       "      <th>nullable</th>\n",
       "      <th>default</th>\n",
       "      <th>autoincrement</th>\n",
       "      <th>primary_key</th>\n",
       "    </tr>\n",
       "  </thead>\n",
       "  <tbody>\n",
       "    <tr>\n",
       "      <td>user_id</td>\n",
       "      <td>INTEGER</td>\n",
       "      <td>False</td>\n",
       "      <td>None</td>\n",
       "      <td>auto</td>\n",
       "      <td>1</td>\n",
       "    </tr>\n",
       "    <tr>\n",
       "      <td>abteilung_id</td>\n",
       "      <td>INTEGER</td>\n",
       "      <td>True</td>\n",
       "      <td>None</td>\n",
       "      <td>auto</td>\n",
       "      <td>0</td>\n",
       "    </tr>\n",
       "    <tr>\n",
       "      <td>steckbrief_id</td>\n",
       "      <td>INTEGER</td>\n",
       "      <td>True</td>\n",
       "      <td>None</td>\n",
       "      <td>auto</td>\n",
       "      <td>0</td>\n",
       "    </tr>\n",
       "    <tr>\n",
       "      <td>beruf</td>\n",
       "      <td>VARCHAR(50)</td>\n",
       "      <td>True</td>\n",
       "      <td>None</td>\n",
       "      <td>auto</td>\n",
       "      <td>0</td>\n",
       "    </tr>\n",
       "    <tr>\n",
       "      <td>vorname</td>\n",
       "      <td>VARCHAR(50)</td>\n",
       "      <td>True</td>\n",
       "      <td>None</td>\n",
       "      <td>auto</td>\n",
       "      <td>0</td>\n",
       "    </tr>\n",
       "    <tr>\n",
       "      <td>nachname</td>\n",
       "      <td>VARCHAR(50)</td>\n",
       "      <td>True</td>\n",
       "      <td>None</td>\n",
       "      <td>auto</td>\n",
       "      <td>0</td>\n",
       "    </tr>\n",
       "    <tr>\n",
       "      <td>geburtsdatum</td>\n",
       "      <td>DATE</td>\n",
       "      <td>True</td>\n",
       "      <td>None</td>\n",
       "      <td>auto</td>\n",
       "      <td>0</td>\n",
       "    </tr>\n",
       "  </tbody>\n",
       "</table>"
      ],
      "text/plain": [
       "<IPython.core.display.HTML object>"
      ]
     },
     "metadata": {},
     "output_type": "display_data"
    }
   ],
   "source": [
    "from sqlalchemy.engine import reflection\n",
    "from IPython.display import HTML\n",
    "insp = reflection.Inspector.from_engine(engine)\n",
    "\n",
    "for table_name in insp.get_table_names():\n",
    "    display(HTML(f\"<h3>Table: {table_name}</h3>\"))\n",
    "    display(HTML(pd.DataFrame(insp.get_columns(table_name)).to_html(index=False)))"
   ]
  },
  {
   "cell_type": "raw",
   "id": "2b3007aa",
   "metadata": {},
   "source": [
    "import requests"
   ]
  },
  {
   "cell_type": "raw",
   "id": "d292710f",
   "metadata": {},
   "source": [
    "response = requests.get(\"http://localhost:8000/user/\")\n",
    "response.json()"
   ]
  },
  {
   "cell_type": "code",
   "execution_count": 5,
   "id": "017b112e",
   "metadata": {},
   "outputs": [],
   "source": [
    "df=pd.read_csv(\"../db/testdata/users.csv\",sep=\";\")\n",
    "df.to_sql(\"user\",engine, if_exists='append',index=False)"
   ]
  },
  {
   "cell_type": "code",
   "execution_count": 6,
   "id": "42ebf49f",
   "metadata": {},
   "outputs": [],
   "source": [
    "df=pd.read_csv(\"../db/testdata/steckbriefe.csv\",sep=\";\")\n",
    "df.to_sql(\"steckbrief\",engine, if_exists='append',index=False)"
   ]
  },
  {
   "cell_type": "code",
   "execution_count": 7,
   "id": "af762817",
   "metadata": {},
   "outputs": [],
   "source": [
    "df=pd.read_csv(\"../db/testdata/steckbrief_frage.csv\",sep=\";\")\n",
    "df.to_sql(\"steckbrief_frage\",engine, if_exists='append',index=False)"
   ]
  },
  {
   "cell_type": "code",
   "execution_count": 8,
   "id": "a640375d",
   "metadata": {},
   "outputs": [],
   "source": [
    "df=pd.read_csv(\"../db/testdata/frage.csv\",sep=\";\")\n",
    "df.to_sql(\"frage\",engine, if_exists='append',index=False)"
   ]
  },
  {
   "cell_type": "code",
   "execution_count": 9,
   "id": "59699583",
   "metadata": {},
   "outputs": [],
   "source": [
    "df=pd.read_csv(\"../db/testdata/dummy_antwort.csv\",sep=\";\")\n",
    "df.to_sql(\"dummy_antwort\",engine, if_exists='append',index=False)"
   ]
  },
  {
   "cell_type": "code",
   "execution_count": 10,
   "id": "7e6dd305",
   "metadata": {},
   "outputs": [],
   "source": [
    "df=pd.read_csv(\"../db/testdata/collection.csv\",sep=\";\")\n",
    "df.to_sql(\"collection\",engine, if_exists='append',index=False)"
   ]
  },
  {
   "cell_type": "code",
   "execution_count": 11,
   "id": "537ba8f4",
   "metadata": {
    "scrolled": true
   },
   "outputs": [
    {
     "data": {
      "text/plain": [
       "dict_values([{'user_id': 1, 'abteilung_id': 1, 'steckbrief_id': 1, 'beruf': 'Grafiker', 'vorname': 'Marco', 'nachname': 'Gerken', 'geburtsdatum': datetime.date(1993, 5, 12)}, {'user_id': 2, 'abteilung_id': 1, 'steckbrief_id': 2, 'beruf': 'Softwareentwickler', 'vorname': 'Robert', 'nachname': 'Bertrams', 'geburtsdatum': datetime.date(1993, 5, 12)}, {'user_id': 3, 'abteilung_id': 1, 'steckbrief_id': 3, 'beruf': 'Testerin', 'vorname': 'Mia', 'nachname': 'Lamm', 'geburtsdatum': datetime.date(1993, 5, 12)}, {'user_id': 4, 'abteilung_id': 1, 'steckbrief_id': 4, 'beruf': 'Abteilungsleiterin', 'vorname': 'Leonie', 'nachname': 'Walczyk', 'geburtsdatum': datetime.date(1993, 5, 12)}, {'user_id': 5, 'abteilung_id': 1, 'steckbrief_id': 5, 'beruf': 'Administrator', 'vorname': 'Burkhard', 'nachname': 'Peschek', 'geburtsdatum': datetime.date(1993, 5, 12)}, {'user_id': 6, 'abteilung_id': 1, 'steckbrief_id': 6, 'beruf': 'Prozessentwicklerin', 'vorname': 'Marie', 'nachname': 'Rast', 'geburtsdatum': datetime.date(1993, 5, 12)}, {'user_id': 7, 'abteilung_id': 1, 'steckbrief_id': 7, 'beruf': 'Scrum Master', 'vorname': 'Karl', 'nachname': 'Paczkowski', 'geburtsdatum': datetime.date(1993, 5, 12)}, {'user_id': 8, 'abteilung_id': 1, 'steckbrief_id': 8, 'beruf': 'Product Owner', 'vorname': 'Fritz', 'nachname': 'Dogan', 'geburtsdatum': datetime.date(1993, 5, 12)}, {'user_id': 9, 'abteilung_id': 1, 'steckbrief_id': 9, 'beruf': 'Product Owner', 'vorname': 'Edith', 'nachname': 'Giebel', 'geburtsdatum': datetime.date(1993, 5, 12)}, {'user_id': 10, 'abteilung_id': 1, 'steckbrief_id': 10, 'beruf': 'Product Owner', 'vorname': 'Arthur', 'nachname': 'Fakher', 'geburtsdatum': datetime.date(1993, 5, 12)}])"
      ]
     },
     "execution_count": 11,
     "metadata": {},
     "output_type": "execute_result"
    }
   ],
   "source": [
    "pd.read_sql(SessionLocal().query(models.User).statement,SessionLocal().bind).T.to_dict().values()"
   ]
  },
  {
   "cell_type": "code",
   "execution_count": 39,
   "id": "9761bfbd",
   "metadata": {},
   "outputs": [],
   "source": [
    "from sqlalchemy import case\n",
    "\n",
    "my_case = case([\n",
    "        (collection.user_id_aktiv != None, 1)],\n",
    "         else_=0\n",
    ")"
   ]
  },
  {
   "cell_type": "code",
   "execution_count": 45,
   "id": "7159b1bd",
   "metadata": {},
   "outputs": [
    {
     "data": {
      "text/html": [
       "<div>\n",
       "<style scoped>\n",
       "    .dataframe tbody tr th:only-of-type {\n",
       "        vertical-align: middle;\n",
       "    }\n",
       "\n",
       "    .dataframe tbody tr th {\n",
       "        vertical-align: top;\n",
       "    }\n",
       "\n",
       "    .dataframe thead th {\n",
       "        text-align: right;\n",
       "    }\n",
       "</style>\n",
       "<table border=\"1\" class=\"dataframe\">\n",
       "  <thead>\n",
       "    <tr style=\"text-align: right;\">\n",
       "      <th></th>\n",
       "      <th>user_id</th>\n",
       "      <th>abteilung_id</th>\n",
       "      <th>steckbrief_id</th>\n",
       "      <th>beruf</th>\n",
       "      <th>vorname</th>\n",
       "      <th>nachname</th>\n",
       "      <th>geburtsdatum</th>\n",
       "      <th>gesammelt</th>\n",
       "    </tr>\n",
       "  </thead>\n",
       "  <tbody>\n",
       "    <tr>\n",
       "      <th>0</th>\n",
       "      <td>1</td>\n",
       "      <td>1</td>\n",
       "      <td>1</td>\n",
       "      <td>Grafiker</td>\n",
       "      <td>Marco</td>\n",
       "      <td>Gerken</td>\n",
       "      <td>1993-05-12</td>\n",
       "      <td>0</td>\n",
       "    </tr>\n",
       "    <tr>\n",
       "      <th>1</th>\n",
       "      <td>3</td>\n",
       "      <td>1</td>\n",
       "      <td>3</td>\n",
       "      <td>Testerin</td>\n",
       "      <td>Mia</td>\n",
       "      <td>Lamm</td>\n",
       "      <td>1993-05-12</td>\n",
       "      <td>1</td>\n",
       "    </tr>\n",
       "    <tr>\n",
       "      <th>2</th>\n",
       "      <td>4</td>\n",
       "      <td>1</td>\n",
       "      <td>4</td>\n",
       "      <td>Abteilungsleiterin</td>\n",
       "      <td>Leonie</td>\n",
       "      <td>Walczyk</td>\n",
       "      <td>1993-05-12</td>\n",
       "      <td>1</td>\n",
       "    </tr>\n",
       "    <tr>\n",
       "      <th>3</th>\n",
       "      <td>5</td>\n",
       "      <td>1</td>\n",
       "      <td>5</td>\n",
       "      <td>Administrator</td>\n",
       "      <td>Burkhard</td>\n",
       "      <td>Peschek</td>\n",
       "      <td>1993-05-12</td>\n",
       "      <td>1</td>\n",
       "    </tr>\n",
       "    <tr>\n",
       "      <th>4</th>\n",
       "      <td>6</td>\n",
       "      <td>1</td>\n",
       "      <td>6</td>\n",
       "      <td>Prozessentwicklerin</td>\n",
       "      <td>Marie</td>\n",
       "      <td>Rast</td>\n",
       "      <td>1993-05-12</td>\n",
       "      <td>1</td>\n",
       "    </tr>\n",
       "    <tr>\n",
       "      <th>5</th>\n",
       "      <td>7</td>\n",
       "      <td>1</td>\n",
       "      <td>7</td>\n",
       "      <td>Scrum Master</td>\n",
       "      <td>Karl</td>\n",
       "      <td>Paczkowski</td>\n",
       "      <td>1993-05-12</td>\n",
       "      <td>0</td>\n",
       "    </tr>\n",
       "    <tr>\n",
       "      <th>6</th>\n",
       "      <td>8</td>\n",
       "      <td>1</td>\n",
       "      <td>8</td>\n",
       "      <td>Product Owner</td>\n",
       "      <td>Fritz</td>\n",
       "      <td>Dogan</td>\n",
       "      <td>1993-05-12</td>\n",
       "      <td>0</td>\n",
       "    </tr>\n",
       "    <tr>\n",
       "      <th>7</th>\n",
       "      <td>9</td>\n",
       "      <td>1</td>\n",
       "      <td>9</td>\n",
       "      <td>Product Owner</td>\n",
       "      <td>Edith</td>\n",
       "      <td>Giebel</td>\n",
       "      <td>1993-05-12</td>\n",
       "      <td>0</td>\n",
       "    </tr>\n",
       "    <tr>\n",
       "      <th>8</th>\n",
       "      <td>10</td>\n",
       "      <td>1</td>\n",
       "      <td>10</td>\n",
       "      <td>Product Owner</td>\n",
       "      <td>Arthur</td>\n",
       "      <td>Fakher</td>\n",
       "      <td>1993-05-12</td>\n",
       "      <td>0</td>\n",
       "    </tr>\n",
       "  </tbody>\n",
       "</table>\n",
       "</div>"
      ],
      "text/plain": [
       "   user_id  abteilung_id  steckbrief_id                beruf   vorname  \\\n",
       "0        1             1              1             Grafiker     Marco   \n",
       "1        3             1              3             Testerin       Mia   \n",
       "2        4             1              4   Abteilungsleiterin    Leonie   \n",
       "3        5             1              5        Administrator  Burkhard   \n",
       "4        6             1              6  Prozessentwicklerin     Marie   \n",
       "5        7             1              7         Scrum Master      Karl   \n",
       "6        8             1              8        Product Owner     Fritz   \n",
       "7        9             1              9        Product Owner     Edith   \n",
       "8       10             1             10        Product Owner    Arthur   \n",
       "\n",
       "     nachname geburtsdatum  gesammelt  \n",
       "0      Gerken   1993-05-12          0  \n",
       "1        Lamm   1993-05-12          1  \n",
       "2     Walczyk   1993-05-12          1  \n",
       "3     Peschek   1993-05-12          1  \n",
       "4        Rast   1993-05-12          1  \n",
       "5  Paczkowski   1993-05-12          0  \n",
       "6       Dogan   1993-05-12          0  \n",
       "7      Giebel   1993-05-12          0  \n",
       "8      Fakher   1993-05-12          0  "
      ]
     },
     "execution_count": 45,
     "metadata": {},
     "output_type": "execute_result"
    }
   ],
   "source": [
    "collection = SessionLocal().query(models.Collection).filter(models.Collection.user_id_aktiv==2).subquery()\n",
    "\n",
    "\n",
    "my_case = case([\n",
    "        (collection.c.user_id_aktiv != None, 1)],\n",
    "         else_=0\n",
    ")\n",
    "\n",
    "pd.read_sql(SessionLocal().query(models.User,my_case.label('gesammelt')).outerjoin(collection,models.User.user_id==collection.c.user_id_passiv).filter(models.User.user_id!=2).statement, SessionLocal().bind)"
   ]
  },
  {
   "cell_type": "code",
   "execution_count": 23,
   "id": "973e7963",
   "metadata": {},
   "outputs": [
    {
     "data": {
      "text/html": [
       "<div>\n",
       "<style scoped>\n",
       "    .dataframe tbody tr th:only-of-type {\n",
       "        vertical-align: middle;\n",
       "    }\n",
       "\n",
       "    .dataframe tbody tr th {\n",
       "        vertical-align: top;\n",
       "    }\n",
       "\n",
       "    .dataframe thead th {\n",
       "        text-align: right;\n",
       "    }\n",
       "</style>\n",
       "<table border=\"1\" class=\"dataframe\">\n",
       "  <thead>\n",
       "    <tr style=\"text-align: right;\">\n",
       "      <th></th>\n",
       "      <th>user_id_aktiv</th>\n",
       "      <th>user_id_passiv</th>\n",
       "    </tr>\n",
       "  </thead>\n",
       "  <tbody>\n",
       "    <tr>\n",
       "      <th>0</th>\n",
       "      <td>2</td>\n",
       "      <td>3</td>\n",
       "    </tr>\n",
       "    <tr>\n",
       "      <th>1</th>\n",
       "      <td>2</td>\n",
       "      <td>4</td>\n",
       "    </tr>\n",
       "    <tr>\n",
       "      <th>2</th>\n",
       "      <td>2</td>\n",
       "      <td>5</td>\n",
       "    </tr>\n",
       "    <tr>\n",
       "      <th>3</th>\n",
       "      <td>2</td>\n",
       "      <td>6</td>\n",
       "    </tr>\n",
       "  </tbody>\n",
       "</table>\n",
       "</div>"
      ],
      "text/plain": [
       "   user_id_aktiv  user_id_passiv\n",
       "0              2               3\n",
       "1              2               4\n",
       "2              2               5\n",
       "3              2               6"
      ]
     },
     "execution_count": 23,
     "metadata": {},
     "output_type": "execute_result"
    }
   ],
   "source": [
    "pd.read_sql(SessionLocal().query(models.Collection.user_id_aktiv,models.Collection.user_id_passiv).filter(models.Collection.user_id_aktiv==2).statement, SessionLocal().bind)"
   ]
  },
  {
   "cell_type": "code",
   "execution_count": 49,
   "id": "42550215",
   "metadata": {},
   "outputs": [
    {
     "name": "stdout",
     "output_type": "stream",
     "text": [
      "SELECT user.user_id AS user_user_id, user.abteilung_id AS user_abteilung_id, user.steckbrief_id AS user_steckbrief_id, user.beruf AS user_beruf, user.vorname AS user_vorname, user.nachname AS user_nachname, user.geburtsdatum AS user_geburtsdatum, CASE WHEN (anon_1.user_id_aktiv IS NOT NULL) THEN ? ELSE ? END AS gesammelt \n",
      "FROM user LEFT OUTER JOIN (SELECT collection.user_id_aktiv AS user_id_aktiv, collection.user_id_passiv AS user_id_passiv \n",
      "FROM collection \n",
      "WHERE collection.user_id_aktiv = ?) AS anon_1 ON user.user_id = anon_1.user_id_passiv \n",
      "WHERE user.user_id != ?\n"
     ]
    }
   ],
   "source": [
    "collection = SessionLocal().query(models.Collection).filter(models.Collection.user_id_aktiv==2).subquery()\n",
    "    \n",
    "check_collected = case([\n",
    "    (collection.c.user_id_aktiv != None, 1)],\n",
    "        else_=0\n",
    ")\n",
    "\n",
    "print(SessionLocal().query(models.User,check_collected.label('gesammelt')).outerjoin(collection,models.User.user_id==collection.c.user_id_passiv).filter(models.User.user_id!=2))"
   ]
  },
  {
   "cell_type": "code",
   "execution_count": 66,
   "id": "7da65bad",
   "metadata": {},
   "outputs": [
    {
     "name": "stdout",
     "output_type": "stream",
     "text": [
      "Marco\n",
      "Mia\n",
      "Leonie\n",
      "Burkhard\n",
      "Marie\n",
      "Karl\n",
      "Fritz\n",
      "Edith\n",
      "Arthur\n"
     ]
    }
   ],
   "source": [
    "for row in SessionLocal().query(models.User,my_case.label('gesammelt')).outerjoin(collection,models.User.user_id==collection.c.user_id_passiv).filter(models.User.user_id!=2).all():\n",
    "    print(row[0].vorname)"
   ]
  }
 ],
 "metadata": {
  "kernelspec": {
   "display_name": "Python 3",
   "language": "python",
   "name": "python3"
  },
  "language_info": {
   "codemirror_mode": {
    "name": "ipython",
    "version": 3
   },
   "file_extension": ".py",
   "mimetype": "text/x-python",
   "name": "python",
   "nbconvert_exporter": "python",
   "pygments_lexer": "ipython3",
   "version": "3.8.8"
  }
 },
 "nbformat": 4,
 "nbformat_minor": 5
}
